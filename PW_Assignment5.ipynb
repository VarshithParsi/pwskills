{
 "cells": [
  {
   "cell_type": "markdown",
   "id": "1d3cd3ef",
   "metadata": {},
   "source": [
    "##THEORETICAL QUESTIONS"
   ]
  },
  {
   "cell_type": "markdown",
   "id": "ea5ba9de",
   "metadata": {},
   "source": [
    "1. What is the difference between interpreted and compiled languages?\n",
    "Ans:\n",
    "Interpreted languages execute code line-by-line using an interpreter (e.g., Python, JavaScript).\n",
    "Compiled languages are translated into machine code before execution using a compiler (e.g., C, C++).\n",
    "Interpreted languages are generally easier to debug, while compiled languages are faster in execution.\n"
   ]
  },
  {
   "cell_type": "markdown",
   "id": "b33e927e",
   "metadata": {},
   "source": [
    "2. What is exception handling in Python?\n",
    "Ans:\n",
    "Exception handling is a mechanism to handle runtime errors using try, except, else, and finally blocks to prevent program crashes.\n",
    "\n",
    "\n",
    "\n"
   ]
  },
  {
   "cell_type": "markdown",
   "id": "4bf6ca49",
   "metadata": {},
   "source": [
    "3. What is the purpose of the finally block in exception handling?\n",
    "Ans:\n",
    "The finally block is used to execute code regardless of whether an exception occurred or not. It's often used for cleanup actions like closing files or releasing resources.\n",
    "\n"
   ]
  },
  {
   "cell_type": "markdown",
   "id": "b27441b7",
   "metadata": {},
   "source": [
    "4. What is logging in Python?\n",
    "Ans:\n",
    "Logging is the process of recording events or messages during program execution. Python’s logging module helps track errors, warnings, and other runtime information.\n",
    "\n"
   ]
  },
  {
   "cell_type": "markdown",
   "id": "94e72ac0",
   "metadata": {},
   "source": [
    "5. What is the significance of the __del__ method in Python?\n",
    "Ans:\n",
    "The __del__ method is a destructor called when an object is about to be destroyed. It is used to clean up resources like closing files or network connections.\n",
    "\n"
   ]
  },
  {
   "cell_type": "markdown",
   "id": "5265592e",
   "metadata": {},
   "source": [
    "6. What is the difference between import and from ... import in Python?\n",
    "Ans:\n",
    "\n",
    "import module imports the entire module.\n",
    "from module import function imports specific functions or classes from a module.\n"
   ]
  },
  {
   "cell_type": "markdown",
   "id": "826b02b9",
   "metadata": {},
   "source": [
    "7. How can you handle multiple exceptions in Python?\n",
    "Ans:\n",
    "You can handle multiple exceptions using multiple except blocks or by grouping exceptions in a tuple:\n",
    "\n",
    "try:\n",
    "    # code\n",
    "except (TypeError, ValueError) as e:\n",
    "    print(e)\n"
   ]
  },
  {
   "cell_type": "markdown",
   "id": "e2d5981d",
   "metadata": {},
   "source": [
    "8. What is the purpose of the with statement when handling files in Python?\n",
    "Ans:\n",
    "The with statement ensures that a file is properly closed after its suite finishes, even if an exception is raised.\n",
    "\n"
   ]
  },
  {
   "cell_type": "markdown",
   "id": "3eb93881",
   "metadata": {},
   "source": [
    "9. What is the difference between multithreading and multiprocessing?\n",
    "Ans:\n",
    "\n",
    "Multithreading runs multiple threads in the same process, sharing memory.\n",
    "Multiprocessing runs separate processes with separate memory, better for CPU-bound tasks.\n"
   ]
  },
  {
   "cell_type": "markdown",
   "id": "feb00c24",
   "metadata": {},
   "source": [
    "10. What are the advantages of using logging in a program?\n",
    "Ans:\n",
    "\n",
    "Helps in debugging\n",
    "Tracks events and errors\n",
    "Provides insights into program flow\n",
    "Can be configured to log at different severity levels\n"
   ]
  },
  {
   "cell_type": "markdown",
   "id": "6b6dd49c",
   "metadata": {},
   "source": [
    "11. What is memory management in Python?\n",
    "Ans:\n",
    "Memory management in Python involves allocating and deallocating memory automatically using a private heap and garbage collection."
   ]
  },
  {
   "cell_type": "markdown",
   "id": "ec315dce",
   "metadata": {},
   "source": [
    "12. What are the basic steps involved in exception handling in Python?\n",
    "Ans:\n",
    "\n",
    "Use try to wrap code that might raise an exception.\n",
    "Use except to handle specific exceptions.\n",
    "Optionally use else for code that runs if no exception occurs.\n",
    "Use finally for cleanup code.\n"
   ]
  },
  {
   "cell_type": "markdown",
   "id": "66738758",
   "metadata": {},
   "source": [
    "13. Why is memory management important in Python?\n",
    "Ans:\n",
    "Efficient memory management prevents memory leaks, optimizes performance, and ensures the stability of applications."
   ]
  },
  {
   "cell_type": "markdown",
   "id": "5e29962d",
   "metadata": {},
   "source": [
    "14. What is the role of try and except in exception handling?\n",
    "Ans:\n",
    "\n",
    "try: Defines a block of code to test for errors.\n",
    "except: Defines a block of code to handle the error."
   ]
  },
  {
   "cell_type": "markdown",
   "id": "4f912b72",
   "metadata": {},
   "source": [
    "15. How does Python's garbage collection system work?\n",
    "Ans:\n",
    "Python uses reference counting and a cyclic garbage collector to automatically reclaim memory occupied by objects no longer in use."
   ]
  },
  {
   "cell_type": "markdown",
   "id": "28f22ed3",
   "metadata": {},
   "source": [
    "16. What is the purpose of the else block in exception handling?\n",
    "Ans:\n",
    "The else block runs if no exceptions are raised in the try block. It’s useful for code that should only run when the try block succeeds.\n"
   ]
  },
  {
   "cell_type": "markdown",
   "id": "b03c9073",
   "metadata": {},
   "source": [
    "17. What are the common logging levels in Python?\n",
    "Ans:\n",
    "\n",
    "DEBUG\n",
    "INFO\n",
    "WARNING\n",
    "ERROR\n",
    "CRITICAL"
   ]
  },
  {
   "cell_type": "markdown",
   "id": "bbf391c2",
   "metadata": {},
   "source": [
    "18. What is the difference between os.fork() and multiprocessing in Python?\n",
    "Ans:\n",
    "\n",
    "os.fork() is Unix-specific and creates a child process by duplicating the parent.\n",
    "multiprocessing is cross-platform and provides a higher-level API for process-based parallelism."
   ]
  },
  {
   "cell_type": "markdown",
   "id": "a48184bc",
   "metadata": {},
   "source": [
    "19. What is the importance of closing a file in Python?\n",
    "Ans:\n",
    "Closing a file releases system resources and ensures that all data is written to disk."
   ]
  },
  {
   "cell_type": "markdown",
   "id": "6db1cd2d",
   "metadata": {},
   "source": [
    "20. What is the difference between file.read() and file.readline() in Python?\n",
    "Ans:\n",
    "\n",
    "file.read() reads the entire file content.\n",
    "file.readline() reads one line at a time."
   ]
  },
  {
   "cell_type": "markdown",
   "id": "284c927c",
   "metadata": {},
   "source": [
    "21. What is the logging module in Python used for?\n",
    "Ans:\n",
    "The logging module is used to track events that happen during program execution, helping in debugging and monitoring."
   ]
  },
  {
   "cell_type": "markdown",
   "id": "cc13511f",
   "metadata": {},
   "source": [
    "22. What is the os module in Python used for in file handling?\n",
    "Ans:\n",
    "The os module provides functions to interact with the operating system, such as file and directory manipulation."
   ]
  },
  {
   "cell_type": "markdown",
   "id": "ee4e0da9",
   "metadata": {},
   "source": [
    "23. What are the challenges associated with memory management in Python?\n",
    "Ans:\n",
    "\n",
    "Circular references\n",
    "Memory leaks in long-running applications\n",
    "Overhead of garbage collection"
   ]
  },
  {
   "cell_type": "markdown",
   "id": "f4d4598a",
   "metadata": {},
   "source": [
    "24. How do you raise an exception manually in Python?\n",
    "Ans:\n",
    "Use the raise keyword:\n",
    "\n",
    "raise ValueError(\"Invalid input\")\n"
   ]
  },
  {
   "cell_type": "markdown",
   "id": "10b5fdf3",
   "metadata": {},
   "source": [
    "25. Why is it important to use multithreading in certain applications?\n",
    "Ans:\n",
    "Multithreading improves performance in I/O-bound applications by allowing concurrent execution, such as in web servers or GUI applications.\n",
    "\n"
   ]
  },
  {
   "cell_type": "markdown",
   "id": "a3527354",
   "metadata": {},
   "source": [
    "##CODING QUESTIONS"
   ]
  },
  {
   "cell_type": "code",
   "execution_count": 28,
   "id": "e427221a",
   "metadata": {},
   "outputs": [],
   "source": [
    "#1)How can you open a file for writing in Python and write a string to it\n",
    "with open(\"example1.txt\", \"w\") as f:\n",
    "    f.write(\"This is a sample string.\\n\")\n"
   ]
  },
  {
   "cell_type": "code",
   "execution_count": 29,
   "id": "642f8f8e",
   "metadata": {},
   "outputs": [],
   "source": [
    "#2) F Write a Python program to read the contents of a file and print each lineF\n",
    "with open(\"example1.txt\", \"w\") as f:\n",
    "    f.write(\"This is a sample string.\\n\")\n"
   ]
  },
  {
   "cell_type": "code",
   "execution_count": null,
   "id": "1358dbcd",
   "metadata": {},
   "outputs": [
    {
     "name": "stdout",
     "output_type": "stream",
     "text": [
      "File not found.\n"
     ]
    }
   ],
   "source": [
    "#3)How would you handle a case where the file doesn't exist while trying to open it for reading?\n",
    "try:\n",
    "    with open(\"nonexistent.txt\", \"r\") as f:\n",
    "        content = f.read()\n",
    "except FileNotFoundError:\n",
    "    print(\"File not found.\")\n"
   ]
  },
  {
   "cell_type": "code",
   "execution_count": null,
   "id": "e70ffa2d",
   "metadata": {},
   "outputs": [],
   "source": [
    "#4)  Write a Python script that reads from one file and writes its content to another file\n",
    "with open(\"example1.txt\", \"r\") as src, open(\"example2.txt\", \"w\") as dst:\n",
    "    dst.write(src.read())\n"
   ]
  },
  {
   "cell_type": "code",
   "execution_count": null,
   "id": "af06654d",
   "metadata": {},
   "outputs": [
    {
     "name": "stdout",
     "output_type": "stream",
     "text": [
      "Cannot divide by zero.\n"
     ]
    }
   ],
   "source": [
    "#5)  How would you catch and handle division by zero error in Python\n",
    "try:\n",
    "    result = 10 / 0\n",
    "except ZeroDivisionError:\n",
    "    print(\"Cannot divide by zero.\")\n"
   ]
  },
  {
   "cell_type": "code",
   "execution_count": null,
   "id": "8704a3f8",
   "metadata": {},
   "outputs": [],
   "source": [
    "#6) Write a Python program that logs an error message to a log file when a division by zero exception occurs\n",
    "import logging\n",
    "logging.basicConfig(filename=\"error_log.txt\", level=logging.ERROR)\n",
    "try:\n",
    "    result = 10 / 0\n",
    "except ZeroDivisionError as e:\n",
    "    logging.error(\"Division by zero error: %s\", e)\n"
   ]
  },
  {
   "cell_type": "code",
   "execution_count": null,
   "id": "e359ff74",
   "metadata": {},
   "outputs": [],
   "source": [
    "#7) How do you log information at different levels (INFO, ERROR, WARNING) in Python using the logging module\n",
    "logging.basicConfig(filename=\"multi_level_log.txt\", level=logging.DEBUG)\n",
    "logging.info(\"This is an info message.\")\n",
    "logging.warning(\"This is a warning.\")\n",
    "logging.error(\"This is an error.\")\n"
   ]
  },
  {
   "cell_type": "code",
   "execution_count": null,
   "id": "035fcaed",
   "metadata": {},
   "outputs": [
    {
     "name": "stdout",
     "output_type": "stream",
     "text": [
      "Error opening file: [Errno 2] No such file or directory: 'missing_file.txt'\n"
     ]
    }
   ],
   "source": [
    "# 8)  Write a program to handle a file opening error using exception handling\n",
    "try:\n",
    "    with open(\"missing_file.txt\", \"r\") as f:\n",
    "        data = f.read()\n",
    "except IOError as e:\n",
    "    print(f\"Error opening file: {e}\")\n"
   ]
  },
  {
   "cell_type": "code",
   "execution_count": null,
   "id": "eb873657",
   "metadata": {},
   "outputs": [],
   "source": [
    "#9) How can you read a file line by line and store its content in a list in Python\n",
    "with open(\"example1.txt\", \"r\") as f:\n",
    "    lines = f.readlines()\n"
   ]
  },
  {
   "cell_type": "code",
   "execution_count": null,
   "id": "a5456270",
   "metadata": {},
   "outputs": [],
   "source": [
    "#10) How can you append data to an existing file in Python\n",
    "with open(\"example1.txt\", \"a\") as f:\n",
    "    f.write(\"Appending a new line.\\n\")\n"
   ]
  },
  {
   "cell_type": "code",
   "execution_count": null,
   "id": "c8a8efd7",
   "metadata": {},
   "outputs": [
    {
     "name": "stdout",
     "output_type": "stream",
     "text": [
      "Key not found.\n"
     ]
    }
   ],
   "source": [
    "#11) Write a Python program that uses a try-except block to handle an error when attempting to access a\n",
    "#dictionary key that doesn't exist\n",
    "try:\n",
    "    d = {\"a\": 1}\n",
    "    print(d[\"b\"])\n",
    "except KeyError:\n",
    "    print(\"Key not found.\")\n",
    "\n"
   ]
  },
  {
   "cell_type": "code",
   "execution_count": null,
   "id": "b9734e6c",
   "metadata": {},
   "outputs": [
    {
     "name": "stdout",
     "output_type": "stream",
     "text": [
      "Index out of range.\n"
     ]
    }
   ],
   "source": [
    "#12) Write a program that demonstrates using multiple except blocks to handle different types of exceptions\n",
    "try:\n",
    "    lst = [1, 2]\n",
    "    print(lst[5])\n",
    "except IndexError:\n",
    "    print(\"Index out of range.\")\n",
    "except Exception as e:\n",
    "    print(f\"Other error: {e}\")\n"
   ]
  },
  {
   "cell_type": "code",
   "execution_count": null,
   "id": "429e55db",
   "metadata": {},
   "outputs": [
    {
     "name": "stdout",
     "output_type": "stream",
     "text": [
      "This is a sample string.\n",
      "Appending a new line.\n",
      "\n"
     ]
    }
   ],
   "source": [
    "#13)Write a program that demonstrates using multiple except blocks to handle different types of exceptions\n",
    "import os\n",
    "if os.path.exists(\"example1.txt\"):\n",
    "    with open(\"example1.txt\", \"r\") as f:\n",
    "        print(f.read())\n"
   ]
  },
  {
   "cell_type": "code",
   "execution_count": null,
   "id": "52ce5da2",
   "metadata": {},
   "outputs": [],
   "source": [
    "#14) Write a program that uses the logging module to log both informational and error messages\n",
    "logging.basicConfig(filename=\"info_error_log.txt\", level=logging.DEBUG)\n",
    "logging.info(\"Program started.\")\n",
    "try:\n",
    "    1 / 0\n",
    "except ZeroDivisionError:\n",
    "    logging.error(\"Division by zero occurred.\")\n"
   ]
  },
  {
   "cell_type": "code",
   "execution_count": null,
   "id": "90c5ff33",
   "metadata": {},
   "outputs": [
    {
     "name": "stdout",
     "output_type": "stream",
     "text": [
      "This is a sample string.\n",
      "Appending a new line.\n",
      "\n"
     ]
    }
   ],
   "source": [
    "#15)  Write a Python program that prints the content of a file and handles the case when the file is empty\n",
    "with open(\"example1.txt\", \"r\") as f:\n",
    "    content = f.read()\n",
    "    if content:\n",
    "        print(content)\n",
    "    else:\n",
    "        print(\"File is empty.\")\n"
   ]
  },
  {
   "cell_type": "code",
   "execution_count": null,
   "id": "9fe3d82a",
   "metadata": {},
   "outputs": [
    {
     "data": {
      "text/plain": [
       "'from memory_profiler import profile\\n\\n@profile\\ndef create_large_list():\\n    a = [i * 2 for i in range(1000000)]\\n    b = [str(i) for i in a]\\n    return b\\n\\nif __name__ == \"__main__\":\\n    result = create_large_list()'"
      ]
     },
     "execution_count": 27,
     "metadata": {},
     "output_type": "execute_result"
    }
   ],
   "source": [
    "#16)Demonstrate how to use memory profiling to check the memory usage of a small program\n",
    "#Install the module (if not already installed):\n",
    "\n",
    "#Write a Python script with a function to profile, and decorate it with @profile.\n",
    "\n",
    "#Run the script using:\n",
    "#python -m memory_profiler your_script.py\n",
    "\n",
    "#EXample\n",
    "'''from memory_profiler import profile\n",
    "\n",
    "@profile\n",
    "def create_large_list():\n",
    "    a = [i * 2 for i in range(1000000)]\n",
    "    b = [str(i) for i in a]\n",
    "    return b\n",
    "\n",
    "if __name__ == \"__main__\":\n",
    "    result = create_large_list()'''\n",
    " \n",
    "\n",
    "\n"
   ]
  },
  {
   "cell_type": "code",
   "execution_count": null,
   "id": "b96d6080",
   "metadata": {},
   "outputs": [],
   "source": [
    "#17) Write a Python program to create and write a list of numbers to a file, one number per line\n",
    "numbers = list(range(1, 11))\n",
    "with open(\"numbers.txt\", \"w\") as f:\n",
    "    for num in numbers:\n",
    "        f.write(f\"{num}\\n\")\n"
   ]
  },
  {
   "cell_type": "code",
   "execution_count": null,
   "id": "615bc765",
   "metadata": {},
   "outputs": [],
   "source": [
    "#18)How would you implement a basic logging setup that logs to a file with rotation after 1MB\n",
    "from logging.handlers import RotatingFileHandler\n",
    "logger = logging.getLogger(\"RotatingLogger\")\n",
    "logger.setLevel(logging.INFO)\n",
    "handler = RotatingFileHandler(\"rotating_log.txt\", maxBytes=1024*1024, backupCount=3)\n",
    "logger.addHandler(handler)\n",
    "logger.info(\"This is a rotating log message.\")\n"
   ]
  },
  {
   "cell_type": "code",
   "execution_count": null,
   "id": "ebb26323",
   "metadata": {},
   "outputs": [
    {
     "name": "stdout",
     "output_type": "stream",
     "text": [
      "Index error caught.\n"
     ]
    }
   ],
   "source": [
    "#19)Write a program that handles both IndexError and KeyError using a try-except blockF\n",
    "try:\n",
    "    lst = [1, 2]\n",
    "    print(lst[3])\n",
    "    d = {\"x\": 10}\n",
    "    print(d[\"y\"])\n",
    "except IndexError:\n",
    "    print(\"Index error caught.\")\n",
    "except KeyError:\n",
    "    print(\"Key error caught.\")\n"
   ]
  },
  {
   "cell_type": "code",
   "execution_count": null,
   "id": "429a350e",
   "metadata": {},
   "outputs": [
    {
     "name": "stdout",
     "output_type": "stream",
     "text": [
      "This is a sample string.\n",
      "Appending a new line.\n",
      "\n"
     ]
    }
   ],
   "source": [
    "#20)How would you open a file and read its contents using a context manager in Python\n",
    "with open(\"example1.txt\", \"r\") as f:\n",
    "    print(f.read())\n"
   ]
  },
  {
   "cell_type": "code",
   "execution_count": null,
   "id": "1e618139",
   "metadata": {},
   "outputs": [
    {
     "name": "stdout",
     "output_type": "stream",
     "text": [
      "The word 'sample' occurs 1 times.\n"
     ]
    }
   ],
   "source": [
    "#21)Write a Python program that reads a file and prints the number of occurrences of a specific word\n",
    "word_to_count = \"sample\"\n",
    "with open(\"example1.txt\", \"r\") as f:\n",
    "    text = f.read()\n",
    "    count = text.count(word_to_count)\n",
    "    print(f\"The word '{word_to_count}' occurs {count} times.\")\n"
   ]
  },
  {
   "cell_type": "code",
   "execution_count": null,
   "id": "0cbc3ada",
   "metadata": {},
   "outputs": [
    {
     "name": "stdout",
     "output_type": "stream",
     "text": [
      "File is not empty.\n"
     ]
    }
   ],
   "source": [
    "#22)How can you check if a file is empty before attempting to read its contents\u001f\n",
    "if os.path.exists(\"example1.txt\") and os.path.getsize(\"example1.txt\") == 0:\n",
    "    print(\"File is empty.\")\n",
    "else:\n",
    "    print(\"File is not empty.\")\n"
   ]
  },
  {
   "cell_type": "code",
   "execution_count": null,
   "id": "5c904766",
   "metadata": {},
   "outputs": [
    {
     "ename": "",
     "evalue": "",
     "output_type": "error",
     "traceback": [
      "\u001b[1;31mThe Kernel crashed while executing code in the current cell or a previous cell. \n",
      "\u001b[1;31mPlease review the code in the cell(s) to identify a possible cause of the failure. \n",
      "\u001b[1;31mClick <a href='https://aka.ms/vscodeJupyterKernelCrash'>here</a> for more info. \n",
      "\u001b[1;31mView Jupyter <a href='command:jupyter.viewOutput'>log</a> for further details."
     ]
    }
   ],
   "source": [
    "#23)Write a Python program that writes to a log file when an error occurs during file handling\n",
    "try:\n",
    "    with open(\"nonexistent_file.txt\", \"r\") as f:\n",
    "        data = f.read()\n",
    "except Exception as e:\n",
    "    logging.basicConfig(filename=\"file_error_log.txt\", level=logging.ERROR)\n",
    "    logging.error(\"Error reading file: %s\", e)\n"
   ]
  },
  {
   "cell_type": "code",
   "execution_count": null,
   "id": "c9ea8ab1",
   "metadata": {},
   "outputs": [],
   "source": []
  }
 ],
 "metadata": {
  "kernelspec": {
   "display_name": "Python 3",
   "language": "python",
   "name": "python3"
  },
  "language_info": {
   "codemirror_mode": {
    "name": "ipython",
    "version": 3
   },
   "file_extension": ".py",
   "mimetype": "text/x-python",
   "name": "python",
   "nbconvert_exporter": "python",
   "pygments_lexer": "ipython3",
   "version": "3.11.0"
  }
 },
 "nbformat": 4,
 "nbformat_minor": 5
}
