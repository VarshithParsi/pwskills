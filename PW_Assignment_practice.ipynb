{
 "cells": [
  {
   "cell_type": "code",
   "execution_count": 4,
   "id": "972a15ad",
   "metadata": {},
   "outputs": [],
   "source": [
    "file=open(\"practice.txt\",\"w\")\n",
    "file.write(\"First\")\n",
    "file.close()"
   ]
  },
  {
   "cell_type": "code",
   "execution_count": 5,
   "id": "72501c1c",
   "metadata": {},
   "outputs": [
    {
     "data": {
      "text/plain": [
       "<_io.TextIOWrapper name='practice.txt' mode='w' encoding='cp1252'>"
      ]
     },
     "execution_count": 5,
     "metadata": {},
     "output_type": "execute_result"
    }
   ],
   "source": [
    "file"
   ]
  },
  {
   "cell_type": "code",
   "execution_count": 7,
   "id": "2f3e4703",
   "metadata": {},
   "outputs": [
    {
     "data": {
      "text/plain": [
       "True"
      ]
     },
     "execution_count": 7,
     "metadata": {},
     "output_type": "execute_result"
    }
   ],
   "source": [
    "file.closed"
   ]
  },
  {
   "cell_type": "code",
   "execution_count": 15,
   "id": "e5c3d744",
   "metadata": {},
   "outputs": [],
   "source": [
    "file=open(\"practice.txt\",\"w\")\n",
    "file.write(\"Secong\")\n",
    "file.close()\n",
    "file=open(\"practice.txt\",\"a\")\n",
    "file.write(\"Third\")\n",
    "file.close()"
   ]
  },
  {
   "cell_type": "code",
   "execution_count": 18,
   "id": "9a058845",
   "metadata": {},
   "outputs": [
    {
     "name": "stdout",
     "output_type": "stream",
     "text": [
      "SecongThird\n"
     ]
    }
   ],
   "source": [
    "file=open(\"practice.txt\",\"r\")\n",
    "for i in file:\n",
    "    print(i)"
   ]
  },
  {
   "cell_type": "code",
   "execution_count": 38,
   "id": "c10fa412",
   "metadata": {},
   "outputs": [],
   "source": [
    "file=open(\"practice.txt\",\"a\")\n",
    "file.write(\"010101001\")\n",
    "file.close()"
   ]
  },
  {
   "cell_type": "code",
   "execution_count": 42,
   "id": "f52cfd40",
   "metadata": {},
   "outputs": [
    {
     "name": "stdout",
     "output_type": "stream",
     "text": [
      "Binary data read from file:\n",
      "b'010101001'\n"
     ]
    }
   ],
   "source": [
    "file=open(\"practice.txt\",\"rb\")\n",
    "binary_data = file.read()\n",
    "print(\"Binary data read from file:\")\n",
    "print(binary_data)"
   ]
  },
  {
   "cell_type": "code",
   "execution_count": null,
   "id": "d082cdc0",
   "metadata": {},
   "outputs": [],
   "source": [
    "# Sample binary data\n",
    "filename = \"practice.txt\"\n",
    "binary_data = bytearray(\"abc\", 'utf-8')\n",
    "\n",
    "# Create and write to the binary file\n",
    "with open(filename, 'wb') as file:\n",
    "    file.write(binary_data)"
   ]
  },
  {
   "cell_type": "code",
   "execution_count": 1,
   "id": "cf7b471b",
   "metadata": {},
   "outputs": [
    {
     "data": {
      "text/plain": [
       "'c:\\\\Users\\\\sparsi\\\\Desktop\\\\DA\\\\pwskills'"
      ]
     },
     "execution_count": 1,
     "metadata": {},
     "output_type": "execute_result"
    }
   ],
   "source": [
    "import os\n",
    "os.getcwd()\n"
   ]
  },
  {
   "cell_type": "code",
   "execution_count": 2,
   "id": "4f392519",
   "metadata": {},
   "outputs": [
    {
     "name": "stdout",
     "output_type": "stream",
     "text": [
      " Volume in drive C is OSDisk\n",
      " Volume Serial Number is A2C5-3EBA\n",
      "\n",
      " Directory of c:\\Users\\sparsi\\Desktop\\DA\\pwskills\n",
      "\n",
      "07/01/2025  05:48 PM    <DIR>          .\n",
      "07/01/2025  05:48 PM    <DIR>          ..\n",
      "07/01/2025  03:09 PM                 5 binary_data.bin\n",
      "06/26/2025  05:22 PM            26,329 image.jfif\n",
      "07/01/2025  03:11 PM                 9 practice.txt\n",
      "07/02/2025  11:43 AM             3,945 PW_Assignment_practice.ipynb\n",
      "06/15/2025  08:08 PM            24,755 PW_Assignment2.ipynb\n",
      "06/26/2025  08:05 PM           100,844 PW_Assignment3.ipynb\n",
      "07/01/2025  05:53 PM             3,566 PW_Assignment4.ipynb\n",
      "06/14/2025  10:35 AM                10 README.md\n",
      "               8 File(s)        159,463 bytes\n",
      "               2 Dir(s)  64,614,727,680 bytes free\n"
     ]
    }
   ],
   "source": [
    "ls"
   ]
  },
  {
   "cell_type": "code",
   "execution_count": null,
   "id": "a0eb8c0a",
   "metadata": {},
   "outputs": [
    {
     "data": {
      "text/plain": [
       "'c:\\\\Users\\\\sparsi\\\\Desktop\\\\DA\\\\pwskills'"
      ]
     },
     "execution_count": 3,
     "metadata": {},
     "output_type": "execute_result"
    },
    {
     "ename": "",
     "evalue": "",
     "output_type": "error",
     "traceback": [
      "\u001b[1;31mThe Kernel crashed while executing code in the current cell or a previous cell. \n",
      "\u001b[1;31mPlease review the code in the cell(s) to identify a possible cause of the failure. \n",
      "\u001b[1;31mClick <a href='https://aka.ms/vscodeJupyterKernelCrash'>here</a> for more info. \n",
      "\u001b[1;31mView Jupyter <a href='command:jupyter.viewOutput'>log</a> for further details."
     ]
    }
   ],
   "source": [
    "pwd"
   ]
  },
  {
   "cell_type": "code",
   "execution_count": null,
   "id": "01ee6568",
   "metadata": {},
   "outputs": [],
   "source": [
    "with open(filename, \"rb\") as file:\n",
    "    binary_data = file.read()\n",
    "    print(\"Binary data read from file:\")\n",
    "    print(binary_data)"
   ]
  }
 ],
 "metadata": {
  "kernelspec": {
   "display_name": "Python 3",
   "language": "python",
   "name": "python3"
  },
  "language_info": {
   "codemirror_mode": {
    "name": "ipython",
    "version": 3
   },
   "file_extension": ".py",
   "mimetype": "text/x-python",
   "name": "python",
   "nbconvert_exporter": "python",
   "pygments_lexer": "ipython3",
   "version": "3.11.0"
  }
 },
 "nbformat": 4,
 "nbformat_minor": 5
}
