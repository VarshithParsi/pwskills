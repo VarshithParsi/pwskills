{
 "cells": [
  {
   "cell_type": "markdown",
   "id": "7aea3372",
   "metadata": {},
   "source": [
    "##Theoretical Questions\n"
   ]
  },
  {
   "cell_type": "markdown",
   "id": "0d5ec493",
   "metadata": {},
   "source": [
    "1. Q: What is a RESTful API?\n",
    "\n",
    "A: A RESTful API (Representational State Transfer) is an architectural style for designing networked applications. It uses standard HTTP methods to perform operations on resources identified by URLs. RESTful APIs are stateless and rely on standard web protocols."
   ]
  },
  {
   "cell_type": "markdown",
   "id": "9cad1698",
   "metadata": {},
   "source": [
    "2. Q: Explain the concept of API specification.\n",
    "\n",
    "A: An API specification defines how an API behaves, including endpoints, request/response formats, authentication, and error codes. It acts as a contract between the API provider and consumers."
   ]
  },
  {
   "cell_type": "markdown",
   "id": "e3d89863",
   "metadata": {},
   "source": [
    "3. Q: What is Flask, and why is it popular for building APIs?\n",
    "\n",
    "A: Flask is a lightweight Python web framework used to build web applications and APIs. It is popular due to its simplicity, flexibility, and rich ecosystem of extensions."
   ]
  },
  {
   "cell_type": "markdown",
   "id": "58a872ac",
   "metadata": {},
   "source": [
    "4. Q: What is routing in Flask?\n",
    "\n",
    "A: Routing in Flask maps URLs to specific functions, determining what logic should be executed when a user accesses a particular endpoint."
   ]
  },
  {
   "cell_type": "markdown",
   "id": "99f48ae1",
   "metadata": {},
   "source": [
    "5. Q: How do you create a simple Flask application?\n",
    "\n",
    "A: A simple Flask app is created by importing Flask, initializing the app, defining routes using decorators, and running the app with app.run()."
   ]
  },
  {
   "cell_type": "markdown",
   "id": "8275cdfa",
   "metadata": {},
   "source": [
    "6. Q: What are HTTP methods used in RESTful APIs?\n",
    "\n",
    "A: Common methods include GET (retrieve), POST (create), PUT (update), DELETE (remove), and PATCH (partial update)."
   ]
  },
  {
   "cell_type": "markdown",
   "id": "4b3e04db",
   "metadata": {},
   "source": [
    "7. Q: What is the purpose of the @app.route() decorator in Flask?\n",
    "\n",
    "A: It binds a URL to a function, allowing Flask to execute that function when the route is accessed."
   ]
  },
  {
   "cell_type": "markdown",
   "id": "b9339725",
   "metadata": {},
   "source": [
    "8. Q: What is the difference between GET and POST HTTP methods?\n",
    "\n",
    "A: GET retrieves data and appends parameters in the URL. POST sends data in the request body, used for creating or submitting data securely."
   ]
  },
  {
   "cell_type": "markdown",
   "id": "5d801f0d",
   "metadata": {},
   "source": [
    "9. Q: How do you handle errors in Flask APIs?\n",
    "\n",
    "A: Errors are handled using error handlers or by returning appropriate HTTP status codes and messages."
   ]
  },
  {
   "cell_type": "markdown",
   "id": "307fe234",
   "metadata": {},
   "source": [
    "10. Q: How do you connect Flask to a SQL database?\n",
    "\n",
    "A: Flask connects to SQL databases using extensions like Flask-SQLAlchemy, which simplifies ORM-based interactions."
   ]
  },
  {
   "cell_type": "markdown",
   "id": "ea0520e0",
   "metadata": {},
   "source": [
    "11. Q: What is the role of Flask-SQLAlchemy?\n",
    "\n",
    "A: It integrates SQLAlchemy with Flask, enabling ORM capabilities for database operations using Python classes."
   ]
  },
  {
   "cell_type": "markdown",
   "id": "9696b834",
   "metadata": {},
   "source": [
    "12. Q: What are Flask blueprints, and how are they useful?\n",
    "\n",
    "A: Blueprints allow modular organization of routes and logic, helping structure large applications."
   ]
  },
  {
   "cell_type": "markdown",
   "id": "8a56195d",
   "metadata": {},
   "source": [
    "13. Q: What is the purpose of Flask's request object?\n",
    "\n",
    "A: It provides access to incoming request data like form inputs, JSON payloads, headers, and query parameters."
   ]
  },
  {
   "cell_type": "markdown",
   "id": "b9d8f960",
   "metadata": {},
   "source": [
    "14. Q: How do you create a RESTful API endpoint using Flask?\n",
    "\n",
    "A: Define a route with @app.route() and implement logic inside the function to handle HTTP methods."
   ]
  },
  {
   "cell_type": "markdown",
   "id": "ad780c31",
   "metadata": {},
   "source": [
    "15. Q: What is the purpose of Flask's jsonify() function?\n",
    "\n",
    "A: It converts Python data structures into JSON responses with the correct content-type header."
   ]
  },
  {
   "cell_type": "markdown",
   "id": "af7f7dee",
   "metadata": {},
   "source": [
    "16. Q: Explain Flask’s url_for() function.\n",
    "\n",
    "A: It generates URLs for routes based on function names, making URL management dynamic and maintainable."
   ]
  },
  {
   "cell_type": "markdown",
   "id": "eb0268e9",
   "metadata": {},
   "source": [
    "17. Q: How does Flask handle static files (CSS, JavaScript, etc.)?\n",
    "\n",
    "A: Flask serves static files from the static/ directory, accessible via the /static/ URL path."
   ]
  },
  {
   "cell_type": "markdown",
   "id": "cb7ceb51",
   "metadata": {},
   "source": [
    "\n",
    "18. Q: What is an API specification, and how does it help in building a Flask API?\n",
    "\n",
    "A: It outlines the structure and behavior of an API, aiding in planning, documentation, and consistent implementation."
   ]
  },
  {
   "cell_type": "markdown",
   "id": "3fbaeeb9",
   "metadata": {},
   "source": [
    "19. Q: What are HTTP status codes, and why are they important in a Flask API?\n",
    "\n",
    "A: They indicate the result of a request, helping clients understand success, failure, or required corrections."
   ]
  },
  {
   "cell_type": "markdown",
   "id": "81193116",
   "metadata": {},
   "source": [
    "20. Q: How do you handle POST requests in Flask?\n",
    "A: Define a route with methods=['POST'] and access submitted data using request.form, request.json, or request.data."
   ]
  },
  {
   "cell_type": "markdown",
   "id": "fb404ae6",
   "metadata": {},
   "source": [
    "21. Q: How would you secure a Flask API?\n",
    "\n",
    "A: Use authentication (JWT, OAuth), input validation, HTTPS, rate limiting, and proper error handling."
   ]
  },
  {
   "cell_type": "markdown",
   "id": "fdc678a6",
   "metadata": {},
   "source": [
    "22. Q: What is the significance of the Flask-RESTful extension?\n",
    "\n",
    "A: It simplifies RESTful API creation by providing tools for routing, request parsing, and response formatting."
   ]
  },
  {
   "cell_type": "markdown",
   "id": "2f11c90e",
   "metadata": {},
   "source": [
    "23. Q: What is the role of Flask’s session object?\n",
    "\n",
    "A: It stores user-specific data across requests using secure cookies, useful for maintaining login state and preferences.\n"
   ]
  },
  {
   "cell_type": "code",
   "execution_count": 15,
   "id": "67556564",
   "metadata": {},
   "outputs": [
    {
     "name": "stdout",
     "output_type": "stream",
     "text": [
      " * Serving Flask app '__main__'\n",
      " * Debug mode: off\n"
     ]
    },
    {
     "name": "stderr",
     "output_type": "stream",
     "text": [
      "WARNING: This is a development server. Do not use it in a production deployment. Use a production WSGI server instead.\n",
      " * Running on http://127.0.0.1:5000\n",
      "Press CTRL+C to quit\n"
     ]
    }
   ],
   "source": [
    "import threading\n",
    "def run_flask():\n",
    "   app.run(debug=False, use_reloader=False)  # Turn off reloader to avoid double run\n",
    "thread = threading.Thread(target=run_flask)\n",
    "thread.start()"
   ]
  },
  {
   "cell_type": "code",
   "execution_count": 17,
   "id": "cdcb82f0",
   "metadata": {},
   "outputs": [],
   "source": [
    "import os\n",
    "# Create templates folder\n",
    "os.makedirs(\"templates\", exist_ok=True)\n",
    "# Write index.html\n",
    "with open(\"templates/index.html\", \"w\") as f:\n",
    "   f.write(\"\"\"\n",
    "<!DOCTYPE html>\n",
    "<html>\n",
    "<head>\n",
    "<title>Enter Name</title>\n",
    "</head>\n",
    "<body>\n",
    "<h1>Hello! Enter your name:</h1>\n",
    "<form method=\"POST\" action=\"{{ url_for('greet') }}\">\n",
    "<input type=\"text\" name=\"name\" placeholder=\"Your name\" required>\n",
    "<input type=\"submit\" value=\"Submit\">\n",
    "</form>\n",
    "</body>\n",
    "</html>\n",
    "\"\"\")"
   ]
  },
  {
   "cell_type": "code",
   "execution_count": 18,
   "id": "3b2da783",
   "metadata": {},
   "outputs": [],
   "source": [
    "with open(\"templates/welcome.html\", \"w\") as f:\n",
    "   f.write(\"\"\"\n",
    "<!DOCTYPE html>\n",
    "<html>\n",
    "<head>\n",
    "<title>Welcome</title>\n",
    "</head>\n",
    "<body>\n",
    "<h1>Welcome, {{ name }}!</h1>\n",
    "</body>\n",
    "</html>\n",
    "\"\"\")"
   ]
  },
  {
   "cell_type": "code",
   "execution_count": 55,
   "id": "bc18751b",
   "metadata": {},
   "outputs": [
    {
     "name": "stdout",
     "output_type": "stream",
     "text": [
      " * Serving Flask app '__main__'\n",
      " * Debug mode: off\n"
     ]
    },
    {
     "name": "stderr",
     "output_type": "stream",
     "text": [
      "WARNING: This is a development server. Do not use it in a production deployment. Use a production WSGI server instead.\n",
      " * Running on http://127.0.0.1:5000\n",
      "Press CTRL+C to quit\n"
     ]
    }
   ],
   "source": [
    "#1) How do you create a basic Flask application\n",
    "\n",
    "from flask import Flask\n",
    "from threading import Thread\n",
    "app = Flask(__name__)\n",
    "@app.route('/')\n",
    "def home():\n",
    "   return \"Hello from Flask inside Jupyter Notebook!\"\n",
    "def run_app():\n",
    "   app.run(port=5000)\n",
    "# Run the Flask app in a background thread\n",
    "Thread(target=run_app).start()"
   ]
  },
  {
   "cell_type": "code",
   "execution_count": 59,
   "id": "6860bdc5",
   "metadata": {},
   "outputs": [
    {
     "name": "stdout",
     "output_type": "stream",
     "text": [
      " * Serving Flask app '__main__'\n",
      " * Debug mode: on\n"
     ]
    },
    {
     "name": "stderr",
     "output_type": "stream",
     "text": [
      "WARNING: This is a development server. Do not use it in a production deployment. Use a production WSGI server instead.\n",
      " * Running on http://127.0.0.1:5000\n",
      "Press CTRL+C to quit\n",
      " * Restarting with stat\n"
     ]
    },
    {
     "ename": "SystemExit",
     "evalue": "1",
     "output_type": "error",
     "traceback": [
      "An exception has occurred, use %tb to see the full traceback.\n",
      "\u001b[31mSystemExit\u001b[39m\u001b[31m:\u001b[39m 1\n"
     ]
    }
   ],
   "source": [
    "from flask import Flask, render_template\n",
    "\n",
    "app = Flask(__name__)\n",
    "\n",
    "@app.route('/')\n",
    "def home():\n",
    "    return render_template('index.html')\n",
    "\n",
    "if __name__ == '__main__':\n",
    "    app.run(debug=True)\n"
   ]
  },
  {
   "cell_type": "code",
   "execution_count": null,
   "id": "12e56df6",
   "metadata": {},
   "outputs": [],
   "source": [
    "#3) How do you define different routes with different HTTP methods in Flask4\n",
    "\n",
    "@app.route('/submit', methods=['GET', 'POST'])\n",
    "def submit():\n",
    "   if request.method == 'POST':\n",
    "       return 'Form submitted!'\n",
    "   return 'Submit page (GET)'"
   ]
  },
  {
   "cell_type": "code",
   "execution_count": null,
   "id": "c0a4ee58",
   "metadata": {},
   "outputs": [],
   "source": [
    "#4) How do you render HTML templates in Flask ?\n",
    "\n",
    "from flask import render_template\n",
    "@app.route('/')\n",
    "def index():\n",
    "   return render_template('index.html')"
   ]
  },
  {
   "cell_type": "code",
   "execution_count": null,
   "id": "c7cb6dfc",
   "metadata": {},
   "outputs": [
    {
     "name": "stdout",
     "output_type": "stream",
     "text": [
      " * Serving Flask app '__main__'\n",
      " * Debug mode: on\n"
     ]
    },
    {
     "name": "stderr",
     "output_type": "stream",
     "text": [
      "WARNING: This is a development server. Do not use it in a production deployment. Use a production WSGI server instead.\n",
      " * Running on http://127.0.0.1:5000\n",
      "Press CTRL+C to quit\n",
      " * Restarting with stat\n"
     ]
    },
    {
     "ename": "SystemExit",
     "evalue": "1",
     "output_type": "error",
     "traceback": [
      "An exception has occurred, use %tb to see the full traceback.\n",
      "\u001b[31mSystemExit\u001b[39m\u001b[31m:\u001b[39m 1\n"
     ]
    }
   ],
   "source": [
    "#5) How can you generate URLs for routes in Flask using url_for?\n",
    "\n",
    "from flask import Flask, url_for\n",
    "app = Flask(__name__)\n",
    "@app.route('/profile/<username>')\n",
    "def profile(username):\n",
    "   return f'Profile page of {username}'\n",
    "@app.route('/')\n",
    "def homepage():\n",
    "   # Generate URL for the profile of \"JohnDoe\"\n",
    "   return url_for('profile', username='JohnDoe')  # Outputs: /profile/JohnDoe\n",
    "if __name__ == '__main__':\n",
    "   app.run(debug=True)"
   ]
  },
  {
   "cell_type": "code",
   "execution_count": null,
   "id": "38950170",
   "metadata": {},
   "outputs": [],
   "source": [
    "#6)How do you handle forms in Flask\n",
    "\n",
    "from flask import Flask, request, render_template_string\n",
    "app = Flask(__name__)\n",
    "@app.route('/')\n",
    "def form():\n",
    "   return render_template_string('''\n",
    "<form method=\"POST\" action=\"/submit\">\n",
    "<input name=\"username\" placeholder=\"Enter your name\">\n",
    "<input type=\"submit\">\n",
    "</form>\n",
    "   ''')\n",
    "@app.route('/submit', methods=['POST'])\n",
    "def submit():\n",
    "   username = request.form['username']\n",
    "   return f\"Hello, {username}!\""
   ]
  },
  {
   "cell_type": "code",
   "execution_count": null,
   "id": "2d798537",
   "metadata": {},
   "outputs": [],
   "source": [
    "#7) How can you validate form data in Flask\n",
    "\n",
    "@app.route('/submit', methods=['POST'])\n",
    "def handle_submit():\n",
    "   username = request.form['username']\n",
    "   # your logic here\n",
    "   return 'Submitted'\n",
    "@app.route('/submit', methods=['GET'])\n",
    "def show_form():\n",
    "   # logic for showing form\n",
    "   return 'Form page'"
   ]
  },
  {
   "cell_type": "code",
   "execution_count": null,
   "id": "6e3551e1",
   "metadata": {},
   "outputs": [],
   "source": [
    "#8)How do you manage sessions in Flask\n",
    "\n",
    "from flask import session, redirect\n",
    "app.secret_key = 'your_secret_key'\n",
    "@app.route('/login', methods=['POST'])\n",
    "def login():\n",
    "   session['user'] = request.form['username']\n",
    "   return redirect('/profile')\n",
    "@app.route('/profile')\n",
    "def profile():\n",
    "   user = session.get('user', 'Guest')\n",
    "   return f\"Logged in as: {user}\""
   ]
  },
  {
   "cell_type": "code",
   "execution_count": null,
   "id": "e8d59e59",
   "metadata": {},
   "outputs": [],
   "source": [
    "#9)How do you redirect to a different route in Flask\n",
    "\n",
    "from flask import redirect, url_for\n",
    "@app.route('/go')\n",
    "def go():\n",
    "   return redirect(url_for('profile'))"
   ]
  },
  {
   "cell_type": "code",
   "execution_count": null,
   "id": "e931134c",
   "metadata": {},
   "outputs": [],
   "source": [
    "#10) How do you handle errors in Flask (e.g., 404)\n",
    "\n",
    "@app.errorhandler(404)\n",
    "def page_not_found(e):\n",
    "   return \"Custom 404 - Page Not Found\", 404"
   ]
  },
  {
   "cell_type": "code",
   "execution_count": null,
   "id": "0a814785",
   "metadata": {},
   "outputs": [
    {
     "name": "stdout",
     "output_type": "stream",
     "text": [
      " * Serving Flask app '__main__'\n",
      " * Debug mode: on\n"
     ]
    },
    {
     "name": "stderr",
     "output_type": "stream",
     "text": [
      "WARNING: This is a development server. Do not use it in a production deployment. Use a production WSGI server instead.\n",
      " * Running on http://127.0.0.1:5000\n",
      "Press CTRL+C to quit\n",
      " * Restarting with stat\n"
     ]
    },
    {
     "ename": "SystemExit",
     "evalue": "1",
     "output_type": "error",
     "traceback": [
      "An exception has occurred, use %tb to see the full traceback.\n",
      "\u001b[31mSystemExit\u001b[39m\u001b[31m:\u001b[39m 1\n"
     ]
    }
   ],
   "source": [
    "#11)  How do you structure a Flask app using Blueprints\n",
    "\n",
    "from flask import Flask\n",
    "app = Flask(__name__)\n",
    "@app.route('/')\n",
    "def home():\n",
    "   return \"Hello, Flask!\"\n",
    "if __name__ == '__main__':\n",
    "   app.run(debug=True)"
   ]
  },
  {
   "cell_type": "code",
   "execution_count": null,
   "id": "7bf1cb35",
   "metadata": {},
   "outputs": [],
   "source": [
    "#12) How do you define a custom Jinja filter in Flask\n",
    "\n",
    "@app.template_filter('reverse')\n",
    "def reverse_filter(s):\n",
    "   return s[::-1]\n",
    "# In template: {{ \"hello\" | reverse }}"
   ]
  },
  {
   "cell_type": "code",
   "execution_count": null,
   "id": "6aa2aea6",
   "metadata": {},
   "outputs": [],
   "source": [
    "#13)  How can you redirect with query parameters in Flask\n",
    "   \n",
    "@app.route('/go')\n",
    "def go_to_search2():\n",
    "   return redirect(url_for('search', q='flask', page=2))"
   ]
  },
  {
   "cell_type": "code",
   "execution_count": null,
   "id": "0deba29e",
   "metadata": {},
   "outputs": [],
   "source": [
    "#14) How can you redirect with query parameters in Flask\n",
    "\n",
    "from flask import jsonify\n",
    "@app.route('/api')\n",
    "def api():\n",
    "   return jsonify({'message': 'Hello, API'})"
   ]
  },
  {
   "cell_type": "code",
   "execution_count": null,
   "id": "ce28457e",
   "metadata": {},
   "outputs": [],
   "source": [
    "#15) How do you capture URL parameters in Flask\n",
    "\n",
    "@app.route('/user/<username>')\n",
    "def profile(username):\n",
    "   return f\"Hello, {username}\""
   ]
  }
 ],
 "metadata": {
  "kernelspec": {
   "display_name": "Python 3",
   "language": "python",
   "name": "python3"
  },
  "language_info": {
   "codemirror_mode": {
    "name": "ipython",
    "version": 3
   },
   "file_extension": ".py",
   "mimetype": "text/x-python",
   "name": "python",
   "nbconvert_exporter": "python",
   "pygments_lexer": "ipython3",
   "version": "3.11.0"
  }
 },
 "nbformat": 4,
 "nbformat_minor": 5
}
