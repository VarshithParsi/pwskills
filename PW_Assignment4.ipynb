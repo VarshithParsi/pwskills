{
 "cells": [
  {
   "cell_type": "markdown",
   "id": "48c3db42",
   "metadata": {},
   "source": [
    "##THEORETICAL QUESTIONS"
   ]
  },
  {
   "cell_type": "markdown",
   "id": "62412993",
   "metadata": {},
   "source": [
    "1) What is Object-Oriented Programming (OOP)? \n",
    "Ans-Object-Oriented Programming (OOP) is a programming paradigm based on the concept of \"objects,\" which can contain data and code. Data is in the form of fields (often known as attributes or properties), and code is in the form of procedures (often known as methods). OOP aims to implement real-world entities like inheritance, polymorphism, encapsulation, etc., in programming.\n"
   ]
  },
  {
   "cell_type": "markdown",
   "id": "f2644ed2",
   "metadata": {},
   "source": [
    "2) What is a class in OOP? \n",
    "Ans - A class in OOP is a blueprint for creating objects. It defines a datatype by bundling data and methods that work on the data into one single unit. A class provides a means of bundling data and functionality together."
   ]
  },
  {
   "cell_type": "markdown",
   "id": "9fb73729",
   "metadata": {},
   "source": [
    "3) What is an object in OOP? \n",
    "Ands - An object is an instance of a class. It is a self-contained component that contains attributes and methods to manipulate those attributes. Objects are the real-world entities that are created using the class blueprint."
   ]
  },
  {
   "cell_type": "markdown",
   "id": "0ef37202",
   "metadata": {},
   "source": [
    "4) What is the difference between abstraction and encapsulation?\n",
    "Ans - Abstraction is the concept of hiding the complex implementation details and showing only the necessary features of an object. It helps in reducing programming complexity and effort.\n",
    "Encapsulation is the technique used to protect the data from outside interference and misuse. It bundles the data and methods that operate on the data into a single unit called a class and restricts access to some of the object's components.\n",
    "What are dunder methods in Python? Dunder methods (short for \"double underscore\") are special methods in Python that have double underscores at the beginning and end of their names They are also known as magic methods and are used to implement behavior for built-in operations."
   ]
  },
  {
   "cell_type": "markdown",
   "id": "11b8f38e",
   "metadata": {},
   "source": [
    "5) Explain the concept of inheritance in OOP. \n",
    "Ans - Inheritance is a mechanism in OOP where a new class inherits properties and behavior (methods) from an existing class. The class that is inherited from is called the base class or parent class, and the class that inherits is called the derived class or child class. Inheritance promotes code reusability."
   ]
  },
  {
   "cell_type": "markdown",
   "id": "d427c18f",
   "metadata": {},
   "source": [
    "6) What is polymorphism in OOP? \n",
    "Ans - Polymorphism is the ability of different objects to respond to the same function or method call in different ways. It allows one interface to be used for a general class of actions. The specific action is determined by the exact nature of the situation."
   ]
  },
  {
   "cell_type": "markdown",
   "id": "39e5909f",
   "metadata": {},
   "source": [
    "7) How is encapsulation achieved in Python? \n",
    "Ans - Encapsulation in Python is achieved using private and protected access specifiers. By prefixing an attribute name with a single underscore _, it becomes protected, and by prefixing with double underscores __, it becomes private."
   ]
  },
  {
   "cell_type": "markdown",
   "id": "605c8889",
   "metadata": {},
   "source": [
    "8) How is encapsulation achieved in Python?\n",
    "Ans - Encapsulation in Python operates on a philosophy of cooperative responsibility rather than enforced boundaries. This represents a fundamental theoretical shift from languages like Java or C++, where encapsulation is mechanically enforced through access modifier"
   ]
  },
  {
   "cell_type": "markdown",
   "id": "96a40c27",
   "metadata": {},
   "source": [
    "9) What is a constructor in Python?\n",
    "Ans - A constructor in Python is a special method named __init__() that is automatically called when a new object is created. It is used to initialize the object's attributes.\n",
    "\n"
   ]
  },
  {
   "cell_type": "markdown",
   "id": "2389e21e",
   "metadata": {},
   "source": [
    "10) What are class and static methods in Python?\n",
    "Ans- Class Method: Defined with @classmethod, takes cls as the first parameter, and can modify class state.\n",
    "    Static Method: Defined with @staticmethod, takes no special first parameter, and behaves like a regular function inside a class."
   ]
  },
  {
   "cell_type": "markdown",
   "id": "3b790c20",
   "metadata": {},
   "source": [
    "11) What is method overloading in Python?\n",
    "Ans - Python does not support traditional method overloading. Instead, it uses default arguments or *args/**kwargs to simulate multiple behaviors in a single method."
   ]
  },
  {
   "cell_type": "markdown",
   "id": "3ff60aac",
   "metadata": {},
   "source": [
    "12) What is method overriding in OOP?\n",
    "Ans - Method overriding occurs when a subclass provides a specific implementation of a method that is already defined in its superclass."
   ]
  },
  {
   "cell_type": "markdown",
   "id": "7b4ab7f0",
   "metadata": {},
   "source": [
    "13) What is a property decorator in Python?\n",
    "Ans - The @property decorator allows a method to be accessed like an attribute. It is commonly used to define getters in a class."
   ]
  },
  {
   "cell_type": "markdown",
   "id": "07403831",
   "metadata": {},
   "source": [
    "14) Why is polymorphism important in OOP?\n",
    "Ans - Polymorphism allows objects of different classes to be treated as objects of a common superclass. It promotes flexibility and code reusability."
   ]
  },
  {
   "cell_type": "markdown",
   "id": "1b694281",
   "metadata": {},
   "source": [
    "15) What is an abstract class in Python?\n",
    "Ans - An abstract class is a class that cannot be instantiated and may contain abstract methods. It is defined using the abc module and @abstractmethod decorator."
   ]
  },
  {
   "cell_type": "markdown",
   "id": "850fd859",
   "metadata": {},
   "source": [
    "16) What are the advantages of OOPS?\n",
    "Ans \n",
    "Modularity\n",
    "Code reusability\n",
    "Encapsulation\n",
    "Inheritance\n",
    "Polymorphism\n",
    "Easier maintenance and debugging"
   ]
  },
  {
   "cell_type": "markdown",
   "id": "5db407b1",
   "metadata": {},
   "source": [
    "17) What is the difference between a class variable and an instance variable?\n",
    "Ans - Class Variable: Shared across all instances of the class.\n",
    "Instance Variable: Unique to each object instance."
   ]
  },
  {
   "cell_type": "markdown",
   "id": "6b0a4ae0",
   "metadata": {},
   "source": [
    "18)  What is multiple inheritance in Python?\n",
    "Ans - Multiple inheritance allows a class to inherit from more than one parent class. Python supports this directly."
   ]
  },
  {
   "cell_type": "markdown",
   "id": "2d4b6c93",
   "metadata": {},
   "source": [
    "19) Explain the purpose of ‘’__str__’ and ‘__repr__’ ‘ methods in Python?\n",
    "Ans -\n",
    "__str__: Returns a readable string representation for end users.\n",
    "__repr__: Returns an unambiguous string for developers, often used for debugging."
   ]
  },
  {
   "cell_type": "markdown",
   "id": "17cd38a2",
   "metadata": {},
   "source": [
    "20) What is the significance of the super() function in Python?\n",
    "Ans - super() is used to call a method from the parent class, often used in constructors to ensure proper initialization in inheritance."
   ]
  },
  {
   "cell_type": "markdown",
   "id": "9b364265",
   "metadata": {},
   "source": [
    "21) What is the significance of the __del__ method in Python?\n",
    "Ans -  __del__ is a destructor method called when an object is about to be destroyed. It is used to clean up resources."
   ]
  },
  {
   "cell_type": "markdown",
   "id": "c1b19014",
   "metadata": {},
   "source": [
    "22) What is the difference between @staticmethod and @classmethod in Python?\n",
    "Ans -\n",
    "@staticmethod: No access to class or instance; behaves like a regular function.\n",
    "@classmethod: Takes cls as the first argument and can modify class-level data."
   ]
  },
  {
   "cell_type": "markdown",
   "id": "fa57d3d9",
   "metadata": {},
   "source": [
    "##CODING QUESTIONS"
   ]
  },
  {
   "cell_type": "code",
   "execution_count": 4,
   "id": "c91bf778",
   "metadata": {},
   "outputs": [
    {
     "name": "stdout",
     "output_type": "stream",
     "text": [
      "Animal makes a sound\n",
      "Bark!\n"
     ]
    }
   ],
   "source": [
    "''' 1)  Create a parent class Animal with a method speak() that prints a generic message. Create a child class Dog\n",
    "that overrides the speak() method to print \"Bark!\".'''\n",
    "class Animal:\n",
    "    def speak(self):\n",
    "        print(\"Animal makes a sound\")\n",
    "\n",
    "class Dog(Animal):\n",
    "    def speak(self):\n",
    "        print(\"Bark!\")\n",
    "\n",
    "animal = Animal()\n",
    "dog = Dog()\n",
    "\n",
    "animal.speak()\n",
    "dog.speak()"
   ]
  },
  {
   "cell_type": "code",
   "execution_count": 1,
   "id": "818a51df",
   "metadata": {},
   "outputs": [
    {
     "name": "stdout",
     "output_type": "stream",
     "text": [
      "Circle area: 78.53981633974483\n",
      "Rectangle area: 24\n"
     ]
    }
   ],
   "source": [
    "'''2. Write a program to create an abstract class Shape with a method area(). Derive classes Circle and Rectangle\n",
    "from it and implement the area() method in both.'''\n",
    "from abc import ABC, abstractmethod\n",
    "import math\n",
    "\n",
    "class Shape(ABC):\n",
    "    @abstractmethod\n",
    "    def area(self):\n",
    "        pass\n",
    "\n",
    "class Circle(Shape):\n",
    "    def __init__(self, radius):\n",
    "        self.radius = radius\n",
    "    \n",
    "    def area(self):\n",
    "        return math.pi * self.radius ** 2\n",
    "\n",
    "class Rectangle(Shape):\n",
    "    def __init__(self, length, width):\n",
    "        self.length = length\n",
    "        self.width = width\n",
    "    \n",
    "    def area(self):\n",
    "        return self.length * self.width\n",
    "\n",
    "circle = Circle(5)\n",
    "rectangle = Rectangle(4, 6)\n",
    "\n",
    "print(f\"Circle area: {circle.area()}\")\n",
    "print(f\"Rectangle area: {rectangle.area()}\")"
   ]
  },
  {
   "cell_type": "code",
   "execution_count": null,
   "id": "6ed5d136",
   "metadata": {},
   "outputs": [
    {
     "name": "stdout",
     "output_type": "stream",
     "text": [
      "Electric Tesla 100 kWh\n"
     ]
    }
   ],
   "source": [
    "'''\n",
    "3. Implement a multi-level inheritance scenario where a class Vehicle has an attribute type. Derive a class Car\n",
    "and further derive a class ElectricCar that adds a battery attribute.\n",
    "'''\n",
    "class Vehicle:\n",
    "    def __init__(self, type):\n",
    "        self.type = type\n",
    "\n",
    "class Car(Vehicle):\n",
    "    def __init__(self, type, brand):\n",
    "        super().__init__(type)\n",
    "        self.brand = brand\n",
    "\n",
    "class ElectricCar(Car):\n",
    "    def __init__(self, type, brand, battery):\n",
    "        super().__init__(type, brand)\n",
    "        self.battery = battery\n",
    "\n",
    "ecar = ElectricCar(\"Electric\", \"Tesla\", \"100 kWh\")\n",
    "print(ecar.type, ecar.brand, ecar.battery)\n"
   ]
  },
  {
   "cell_type": "code",
   "execution_count": null,
   "id": "bf54dcfb",
   "metadata": {},
   "outputs": [
    {
     "name": "stdout",
     "output_type": "stream",
     "text": [
      "Sparrow flies high\n",
      "Penguins can't fly\n"
     ]
    }
   ],
   "source": [
    "'''\n",
    "4. Demonstrate polymorphism by creating a base class Bird with a method fly(). Create two derived classes\n",
    "Sparrow and Penguin that override the fly() method.\n",
    "'''\n",
    "class Bird:\n",
    "    def fly(self):\n",
    "        print(\"Bird is flying\")\n",
    "\n",
    "class Sparrow(Bird):\n",
    "    def fly(self):\n",
    "        print(\"Sparrow flies high\")\n",
    "\n",
    "class Penguin(Bird):\n",
    "    def fly(self):\n",
    "        print(\"Penguins can't fly\")\n",
    "\n",
    "birds = [Sparrow(), Penguin()]\n",
    "for bird in birds:\n",
    "    bird.fly()\n"
   ]
  },
  {
   "cell_type": "code",
   "execution_count": null,
   "id": "1dde51ff",
   "metadata": {},
   "outputs": [
    {
     "name": "stdout",
     "output_type": "stream",
     "text": [
      "500\n"
     ]
    }
   ],
   "source": [
    "'''\n",
    "5. Write a program to demonstrate encapsulation by creating a class BankAccount with private attributes\n",
    "balance and methods to deposit, withdraw, and check balance.\n",
    "\n",
    "'''\n",
    "class BankAccount:\n",
    "    def __init__(self):\n",
    "        self.__balance = 0\n",
    "\n",
    "    def deposit(self, amount):\n",
    "        if amount > 0:\n",
    "            self.__balance += amount\n",
    "\n",
    "    def withdraw(self, amount):\n",
    "        if 0 < amount <= self.__balance:\n",
    "            self.__balance -= amount\n",
    "\n",
    "    def check_balance(self):\n",
    "        return self.__balance\n",
    "\n",
    "account = BankAccount()\n",
    "account.deposit(1000)\n",
    "account.withdraw(500)\n",
    "print(account.check_balance())\n"
   ]
  },
  {
   "cell_type": "code",
   "execution_count": null,
   "id": "37ec1761",
   "metadata": {},
   "outputs": [
    {
     "name": "stdout",
     "output_type": "stream",
     "text": [
      "Playing guitar\n",
      "Playing piano\n"
     ]
    }
   ],
   "source": [
    "'''\n",
    "6. Demonstrate runtime polymorphism using a method play() in a base class Instrument. Derive classes Guitar\n",
    "and Piano that implement their own version of play().\n",
    "'''\n",
    "class Instrument:\n",
    "    def play(self):\n",
    "        print(\"Playing instrument\")\n",
    "\n",
    "class Guitar(Instrument):\n",
    "    def play(self):\n",
    "        print(\"Playing guitar\")\n",
    "\n",
    "class Piano(Instrument):\n",
    "    def play(self):\n",
    "        print(\"Playing piano\")\n",
    "\n",
    "instruments = [Guitar(), Piano()]\n",
    "for instrument in instruments:\n",
    "    instrument.play()\n"
   ]
  },
  {
   "cell_type": "code",
   "execution_count": null,
   "id": "bb7ababe",
   "metadata": {},
   "outputs": [
    {
     "name": "stdout",
     "output_type": "stream",
     "text": [
      "15\n",
      "5\n"
     ]
    }
   ],
   "source": [
    "'''\n",
    "7. Create a class MathOperations with a class method add_numbers() to add two numbers and a static\n",
    "method subtract_numbers() to subtract two numbers.\n",
    "'''\n",
    "class MathOperations:\n",
    "    @classmethod\n",
    "    def add_numbers(cls, a, b):\n",
    "        return a + b\n",
    "\n",
    "    @staticmethod\n",
    "    def subtract_numbers(a, b):\n",
    "        return a - b\n",
    "\n",
    "print(MathOperations.add_numbers(10, 5))\n",
    "print(MathOperations.subtract_numbers(10, 5))\n"
   ]
  },
  {
   "cell_type": "code",
   "execution_count": null,
   "id": "97a7fd11",
   "metadata": {},
   "outputs": [
    {
     "name": "stdout",
     "output_type": "stream",
     "text": [
      "2\n"
     ]
    }
   ],
   "source": [
    "'''\n",
    "\n",
    "8. Implement a class Person with a class method to count the total number of persons created.\n",
    "'''\n",
    "class Person:\n",
    "    count = 0\n",
    "\n",
    "    def __init__(self, name):\n",
    "        self.name = name\n",
    "        Person.count += 1\n",
    "\n",
    "    @classmethod\n",
    "    def total_persons(cls):\n",
    "        return cls.count\n",
    "\n",
    "p1 = Person(\"Alice\")\n",
    "p2 = Person(\"Bob\")\n",
    "print(Person.total_persons())\n"
   ]
  },
  {
   "cell_type": "code",
   "execution_count": null,
   "id": "b49729cc",
   "metadata": {},
   "outputs": [
    {
     "name": "stdout",
     "output_type": "stream",
     "text": [
      "3/4\n"
     ]
    }
   ],
   "source": [
    "'''\n",
    "9. Write a class Fraction with attributes numerator and denominator. Override the str method to display the\n",
    "fraction as \"numerator/denominator\".\n",
    "'''\n",
    "class Fraction:\n",
    "    def __init__(self, numerator, denominator):\n",
    "        self.numerator = numerator\n",
    "        self.denominator = denominator\n",
    "\n",
    "    def __str__(self):\n",
    "        return f\"{self.numerator}/{self.denominator}\"\n",
    "\n",
    "f = Fraction(3, 4)\n",
    "print(f)\n"
   ]
  },
  {
   "cell_type": "code",
   "execution_count": null,
   "id": "222cc539",
   "metadata": {},
   "outputs": [
    {
     "name": "stdout",
     "output_type": "stream",
     "text": [
      "(4, 6)\n"
     ]
    }
   ],
   "source": [
    "'''\n",
    "10. Demonstrate operator overloading by creating a class Vector and overriding the add method to add two\n",
    "vectors\n",
    "'''\n",
    "class Vector:\n",
    "    def __init__(self, x, y):\n",
    "        self.x = x\n",
    "        self.y = y\n",
    "\n",
    "    def __add__(self, other):\n",
    "        return Vector(self.x + other.x, self.y + other.y)\n",
    "\n",
    "    def __str__(self):\n",
    "        return f\"({self.x}, {self.y})\"\n",
    "\n",
    "v1 = Vector(1, 2)\n",
    "v2 = Vector(3, 4)\n",
    "print(v1 + v2)\n"
   ]
  },
  {
   "cell_type": "code",
   "execution_count": null,
   "id": "92d43553",
   "metadata": {},
   "outputs": [
    {
     "name": "stdout",
     "output_type": "stream",
     "text": [
      "Hello, my name is John and I am 30 years old.\n"
     ]
    }
   ],
   "source": [
    "'''\n",
    "11. Create a class Person with attributes name and age. Add a method greet() that prints \"Hello, my name is\n",
    "{name} and I am {age} years old.\"\n",
    "\n",
    "'''\n",
    "class Person:\n",
    "    def __init__(self, name, age):\n",
    "        self.name = name\n",
    "        self.age = age\n",
    "\n",
    "    def greet(self):\n",
    "        print(f\"Hello, my name is {self.name} and I am {self.age} years old.\")\n",
    "\n",
    "p = Person(\"John\", 30)\n",
    "p.greet()\n"
   ]
  },
  {
   "cell_type": "code",
   "execution_count": null,
   "id": "379291c7",
   "metadata": {},
   "outputs": [
    {
     "name": "stdout",
     "output_type": "stream",
     "text": [
      "90.0\n"
     ]
    }
   ],
   "source": [
    "'''\n",
    "12. Implement a class Student with attributes name and grades. Create a method average_grade() to compute\n",
    "the average of the grades.\n",
    "'''\n",
    "class Student:\n",
    "    def __init__(self, name, grades):\n",
    "        self.name = name\n",
    "        self.grades = grades\n",
    "\n",
    "    def average_grade(self):\n",
    "        return sum(self.grades) / len(self.grades)\n",
    "\n",
    "s = Student(\"Alice\", [85, 90, 95])\n",
    "print(s.average_grade())\n"
   ]
  },
  {
   "cell_type": "code",
   "execution_count": null,
   "id": "31cd6daf",
   "metadata": {},
   "outputs": [
    {
     "name": "stdout",
     "output_type": "stream",
     "text": [
      "15\n"
     ]
    }
   ],
   "source": [
    "'''\n",
    "13. Create a class Rectangle with methods set_dimensions() to set the dimensions and area() to calculate the\n",
    "area.\n",
    "\n",
    "'''\n",
    "class Rectangle:\n",
    "    def set_dimensions(self, length, width):\n",
    "        self.length = length\n",
    "        self.width = width\n",
    "\n",
    "    def area(self):\n",
    "        return self.length * self.width\n",
    "\n",
    "r = Rectangle()\n",
    "r.set_dimensions(5, 3)\n",
    "print(r.area())\n"
   ]
  },
  {
   "cell_type": "code",
   "execution_count": null,
   "id": "fc8f6b37",
   "metadata": {},
   "outputs": [
    {
     "name": "stdout",
     "output_type": "stream",
     "text": [
      "2000\n",
      "2500\n"
     ]
    }
   ],
   "source": [
    "'''\n",
    "\n",
    "14. Create a class Employee with a method calculate_salary() that computes the salary based on hours worked\n",
    "and hourly rate. Create a derived class Manager that adds a bonus to the salary.\n",
    "'''\n",
    "class Employee:\n",
    "    def calculate_salary(self, hours_worked, hourly_rate):\n",
    "        return hours_worked * hourly_rate\n",
    "\n",
    "class Manager(Employee):\n",
    "    def calculate_salary(self, hours_worked, hourly_rate, bonus):\n",
    "        return super().calculate_salary(hours_worked, hourly_rate) + bonus\n",
    "\n",
    "e = Employee()\n",
    "m = Manager()\n",
    "print(e.calculate_salary(40, 50))\n",
    "print(m.calculate_salary(40, 50, 500))\n"
   ]
  },
  {
   "cell_type": "code",
   "execution_count": null,
   "id": "938c10a6",
   "metadata": {},
   "outputs": [
    {
     "name": "stdout",
     "output_type": "stream",
     "text": [
      "100000\n"
     ]
    }
   ],
   "source": [
    "'''\n",
    "15. Create a class Product with attributes name, price, and quantity. Implement a method total_price() that\n",
    "calculates the total price of the product.\n",
    "\n",
    "'''\n",
    "class Product:\n",
    "    def __init__(self, name, price, quantity):\n",
    "        self.name = name\n",
    "        self.price = price\n",
    "        self.quantity = quantity\n",
    "\n",
    "    def total_price(self):\n",
    "        return self.price * self.quantity\n",
    "\n",
    "p = Product(\"Laptop\", 50000, 2)\n",
    "print(p.total_price())\n"
   ]
  },
  {
   "cell_type": "code",
   "execution_count": null,
   "id": "c0b4e48a",
   "metadata": {},
   "outputs": [
    {
     "name": "stdout",
     "output_type": "stream",
     "text": [
      "Moo\n",
      "Baa\n"
     ]
    }
   ],
   "source": [
    "'''\n",
    "\n",
    "16. Create a class Animal with an abstract method sound(). Create two derived classes Cow and Sheep that\n",
    "implement the sound() method.\n",
    "\n",
    "'''\n",
    "from abc import ABC, abstractmethod\n",
    "\n",
    "class Animal(ABC):\n",
    "    @abstractmethod\n",
    "    def sound(self):\n",
    "        pass\n",
    "\n",
    "class Cow(Animal):\n",
    "    def sound(self):\n",
    "        print(\"Moo\")\n",
    "\n",
    "class Sheep(Animal):\n",
    "    def sound(self):\n",
    "        print(\"Baa\")\n",
    "\n",
    "c = Cow()\n",
    "s = Sheep()\n",
    "c.sound()\n",
    "s.sound()\n"
   ]
  },
  {
   "cell_type": "code",
   "execution_count": null,
   "id": "a5efc716",
   "metadata": {},
   "outputs": [
    {
     "name": "stdout",
     "output_type": "stream",
     "text": [
      "1984 by George Orwell, published in 1949\n"
     ]
    }
   ],
   "source": [
    "'''\n",
    "17. Create a class Book with attributes title, author, and year_published. Add a method get_book_info() that\n",
    "returns a formatted string with the book's details.\n",
    "\n",
    "'''\n",
    "class Book:\n",
    "    def __init__(self, title, author, year_published):\n",
    "        self.title = title\n",
    "        self.author = author\n",
    "        self.year_published = year_published\n",
    "\n",
    "    def get_book_info(self):\n",
    "        return f\"{self.title} by {self.author}, published in {self.year_published}\"\n",
    "\n",
    "b = Book(\"1984\", \"George Orwell\", 1949)\n",
    "print(b.get_book_info())\n"
   ]
  },
  {
   "cell_type": "code",
   "execution_count": null,
   "id": "b59b9c13",
   "metadata": {},
   "outputs": [
    {
     "name": "stdout",
     "output_type": "stream",
     "text": [
      "123 Luxury St 10000000 10\n"
     ]
    }
   ],
   "source": [
    "'''\n",
    "\n",
    "18. Create a class House with attributes address and price. Create a derived class Mansion that adds an\n",
    "attribute number_of_rooms\n",
    "'''\n",
    "class House:\n",
    "    def __init__(self, address, price):\n",
    "        self.address = address\n",
    "        self.price = price\n",
    "\n",
    "class Mansion(House):\n",
    "    def __init__(self, address, price, number_of_rooms):\n",
    "        super().__init__(address, price)\n",
    "        self.number_of_rooms = number_of_rooms\n",
    "\n",
    "m = Mansion(\"123 Luxury St\", 10000000, 10)\n",
    "print(m.address, m.price, m.number_of_rooms)\n"
   ]
  }
 ],
 "metadata": {
  "kernelspec": {
   "display_name": "Python 3",
   "language": "python",
   "name": "python3"
  },
  "language_info": {
   "codemirror_mode": {
    "name": "ipython",
    "version": 3
   },
   "file_extension": ".py",
   "mimetype": "text/x-python",
   "name": "python",
   "nbconvert_exporter": "python",
   "pygments_lexer": "ipython3",
   "version": "3.11.0"
  }
 },
 "nbformat": 4,
 "nbformat_minor": 5
}
