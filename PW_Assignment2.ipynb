{
 "cells": [
  {
   "cell_type": "markdown",
   "id": "907ca1e1",
   "metadata": {},
   "source": [
    "# THEORETICAL QUESTIONS\n"
   ]
  },
  {
   "cell_type": "markdown",
   "id": "4c436e71",
   "metadata": {},
   "source": [
    "1) What are data structures, and why are they important?\n",
    "->Data Structure is a way of organising and storing data so that it can be accessed and manipulated efficiently\n",
    "->Data structures are fundamental e because they provide efficient ways to organize, store, and manage data. Their importance stems from:\n",
    "\n",
    "->Efficiency: They enable programs to run faster and use less memory by optimizing operations like searching, inserting, and deleting data.\n",
    "->Problem Solving: They are essential tools for designing efficient algorithms to solve complex real-world problems.\n",
    "->Code Organization and Maintainability: They provide a logical framework for handling data, making code easier to understand, develop, and maintain.\n"
   ]
  },
  {
   "cell_type": "markdown",
   "id": "e9d7114f",
   "metadata": {},
   "source": [
    "2) Explain the difference between mutable and immutable data types with examples\n",
    "-> Mutable Datatypes are those datatypes which can be modified after it got created\n",
    "Ex:Lists,Sets\n",
    "->Immutable Datatypes are those datatypes which cannot be modified after it got created\n",
    "Ex:Tuple,Strings\n"
   ]
  },
  {
   "cell_type": "markdown",
   "id": "974e8d7e",
   "metadata": {},
   "source": [
    "3) What are the main differences between lists and tuples in Python\n",
    "The main difference between tuples and lists are about mutability\n",
    "-> Lists are mutable,Syntax :my_list234=[\"STrings\",\"Cricket\"]\n",
    "->Tuples are immutable Syntax:my_tuple234=(\"Cricket\",\"MSD\")\n"
   ]
  },
  {
   "cell_type": "markdown",
   "id": "4d3b2e1e",
   "metadata": {},
   "source": [
    "4) Describe how dictionaries store data\n",
    "Dictionaries store data in the form of key value pair,In dictionaries value can be accessed through key"
   ]
  },
  {
   "cell_type": "markdown",
   "id": "cebcaa91",
   "metadata": {},
   "source": [
    "5) Why might you use a set instead of a list in Python\n",
    "List can have duplicate entries unlike set which stores unique and unordered data"
   ]
  },
  {
   "cell_type": "markdown",
   "id": "ab06b951",
   "metadata": {},
   "source": [
    "6) What is a string in Python, and how is it different from a list\n",
    "String is a sequence of characters in python,String is immutable and list is mutable\n",
    "Strings can only hold chanracters whereas list can hold heterogenous data"
   ]
  },
  {
   "cell_type": "markdown",
   "id": "b1dcbd3c",
   "metadata": {},
   "source": [
    "7)  How do tuples ensure data integrity in Python\n",
    "Tuples ensure data integrity in Python primarily because they are immutable.\n",
    "Tuples are immutable, they are \"hashable.\" This means they have a hash value that doesn't change"
   ]
  },
  {
   "cell_type": "markdown",
   "id": "f6157714",
   "metadata": {},
   "source": [
    "8) A hash table  is a data structure that implements an associative dictionary. Its primary purpose is to store key-value pairs and allow for very fast retrieval, insertion, and deletion of these pairs."
   ]
  },
  {
   "cell_type": "markdown",
   "id": "c9946589",
   "metadata": {},
   "source": [
    "9) Can lists contain different data types in Python\n",
    "Yes,Lists can contain different types of datatypes,It can store heterogenous data"
   ]
  },
  {
   "cell_type": "markdown",
   "id": "1f04df7b",
   "metadata": {},
   "source": [
    "10) Explain why strings are immutable in Python\n",
    "Strings are immutable in Python to optimize memory usage by allowing efficient sharing of identical string values and to ensure data integrity by preventing accidental modifications, which is crucial for their use as dictionary keys."
   ]
  },
  {
   "cell_type": "markdown",
   "id": "e7dd8808",
   "metadata": {},
   "source": [
    "11) What advantages do dictionaries offer over lists for certain tasks\n",
    "Dictionaries excel over lists for tasks needing fast lookups based on specific identifiers, Their key-value pairs offer more meaningful data access compared to numeric indices. This makes them ideal for modeling associative relationships and objects with named attributes."
   ]
  },
  {
   "cell_type": "markdown",
   "id": "b52dbda0",
   "metadata": {},
   "source": [
    "12) Describe a scenario where using a tuple would be preferable over a listP\n",
    "In an office setting, you might use a tuple to represent a fixed employee record like (\"EMP001\", \"Alice Smith\", \"Manager\", 75000). This ensures that key details like their ID or initial salary aren't accidentally changed. A list would be less suitable if you want to guarantee these core pieces of information remain constant, preventing unintended alterations to critical employee data."
   ]
  },
  {
   "cell_type": "markdown",
   "id": "282b8e77",
   "metadata": {},
   "source": [
    "13) How do sets handle duplicate values in Python3\n",
    "Sets only store unique values,It doest store any of the duplicate values"
   ]
  },
  {
   "cell_type": "markdown",
   "id": "13269bea",
   "metadata": {},
   "source": [
    "14) How does the “in” keyword work differently for lists and dictionaries\n",
    "In list \"in\" keywords performs a linear search in the list\n",
    "In dictionaries \"in\" keyword performs operation based on key\n"
   ]
  },
  {
   "cell_type": "markdown",
   "id": "ada7169d",
   "metadata": {},
   "source": [
    "15) Can you modify the elements of a tuple? Explain why or why not\n",
    "We cannot modify the elements of a tuple because it is immutable,We can access the elements in a tuple but we cannot modify the elements"
   ]
  },
  {
   "cell_type": "markdown",
   "id": "1aaa2f0e",
   "metadata": {},
   "source": [
    "\n",
    "16) What is a nested dictionary, and give an example of its use case\n",
    "A nested dictionary is a dictionary where the values themselves are other dictionaries. This structure allows you to represent hierarchical data.\n",
    "\n",
    "A practical use case is managing complex configurations or detailed records. For example, you could use a nested dictionary to store information about various products in an inventory. The outer dictionary's keys could be product IDs, and each value would be another dictionary containing details like name, price, and stock_by_warehouse, where stock_by_warehouse itself is a dictionary mapping warehouse names to their respective stock levels. This allows for organized and efficient access to specific data points, such as the stock of a particular product in a given warehouse.\n"
   ]
  },
  {
   "cell_type": "markdown",
   "id": "89729dc0",
   "metadata": {},
   "source": [
    "17)  Describe the time complexity of accessing elements in a dictionary\n",
    "\n",
    "Accessing elements in a Python dictionary has an average time complexity of O(1), also known as constant time. This means that, on average, the time it takes to retrieve a value by its key does not significantly increase with the size of the dictionary.\n",
    "\n",
    "In the worst-case scenario, due to hash collisions, the time complexity can degrade to O(n) (linear time), but this is rare with well-designed hash functions and is typically mitigated by Python's internal resizing and re-hashing mechanisms."
   ]
  },
  {
   "cell_type": "markdown",
   "id": "67bad502",
   "metadata": {},
   "source": [
    "18) In what situations are lists preferred over dictionaries\n",
    "Lists are preferred when the order of elements is crucial or when you need to access items by their numerical index. They are suitable for collections where duplicates are allowed and no key-based lookups are necessary. Choose lists when managing sequential data where iteration or positional access is the primary mode of interaction.\n"
   ]
  },
  {
   "cell_type": "markdown",
   "id": "f0e8b7fa",
   "metadata": {},
   "source": [
    "19)  Why are dictionaries considered unordered, and how does that affect data retrieval\n",
    "Dictionaries were traditionally considered unordered because their internal mechanism, based on hash tables, arranges items for optimal retrieval speed rather than by insertion sequence. This meant that the order in which you added items was not guaranteed when you iterated over the dictionary.\n",
    "\n",
    "However, modern Python implementations do preserve the order in which items are inserted. Despite this, the underlying principle of how data retrieval works remains the same: accessing elements by their key is incredibly fast, operating in average constant time (O(1)). This efficiency comes from a hashing process, where a key is converted into a direct memory address, allowing the dictionary to jump almost instantly to the correct location. Therefore, whether a dictionary is ordered or not for iteration purposes, its primary advantage of rapid key-based data retrieval is still rooted in this highly efficient hashing mechanism.\n"
   ]
  },
  {
   "cell_type": "markdown",
   "id": "4b492afe",
   "metadata": {},
   "source": [
    "20) Explain the difference between a list and a dictionary in terms of data retrieval\n",
    "For lists, data retrieval is positional, meaning elements are accessed by their numerical index, like my_list[0]. Finding a specific value without knowing its index typically requires a linear search, resulting in a time complexity of O(n). In contrast, dictionaries use associative retrieval, accessing values directly via unique keys, such as my_dictionary[\"item_id\"]. This relies on an efficient hashing mechanism, allowing for near-instantaneous, constant-time (O(1)) lookups on average, regardless of the dictionary's size."
   ]
  },
  {
   "cell_type": "markdown",
   "id": "dc897c77",
   "metadata": {},
   "source": []
  },
  {
   "cell_type": "markdown",
   "id": "3ca57885",
   "metadata": {},
   "source": [
    "#CODING ASSIGNMENT\n"
   ]
  },
  {
   "cell_type": "code",
   "execution_count": 1,
   "id": "1d2a7b1c",
   "metadata": {},
   "outputs": [
    {
     "name": "stdout",
     "output_type": "stream",
     "text": [
      "Varshith\n"
     ]
    }
   ],
   "source": [
    "# 1)Write a code to create a string with your name and print it\n",
    "str_name=\"Varshith\"\n",
    "print(str_name)"
   ]
  },
  {
   "cell_type": "code",
   "execution_count": 2,
   "id": "59b8e6ba",
   "metadata": {},
   "outputs": [
    {
     "name": "stdout",
     "output_type": "stream",
     "text": [
      "11\n"
     ]
    }
   ],
   "source": [
    "# 2)Write a code to find the length of the string \"Hello World\"\n",
    "str=\"Hello World\"\n",
    "b=len(str)\n",
    "print(b)"
   ]
  },
  {
   "cell_type": "code",
   "execution_count": 3,
   "id": "322730be",
   "metadata": {},
   "outputs": [
    {
     "data": {
      "text/plain": [
       "'Pyt'"
      ]
     },
     "execution_count": 3,
     "metadata": {},
     "output_type": "execute_result"
    }
   ],
   "source": [
    "# 3)Write a code to slice the first 3 characters from the string \"Python Programming\"\n",
    "\n",
    "str=\"Python Programming\"\n",
    "str[0:3]"
   ]
  },
  {
   "cell_type": "code",
   "execution_count": 4,
   "id": "040194fa",
   "metadata": {},
   "outputs": [
    {
     "data": {
      "text/plain": [
       "'HELLO'"
      ]
     },
     "execution_count": 4,
     "metadata": {},
     "output_type": "execute_result"
    }
   ],
   "source": [
    "# 4)Write a code to convert the string \"hello\" to uppercase\n",
    "str=\"hello\"\n",
    "str.upper()"
   ]
  },
  {
   "cell_type": "code",
   "execution_count": 5,
   "id": "890454f8",
   "metadata": {},
   "outputs": [
    {
     "data": {
      "text/plain": [
       "'I like orange'"
      ]
     },
     "execution_count": 5,
     "metadata": {},
     "output_type": "execute_result"
    }
   ],
   "source": [
    "# 5)Write a code to replace the word \"apple\" with \"orange\" in the string \"I like apple\"\n",
    "str=\"I like apple\"\n",
    "str.replace(\"apple\",\"orange\")"
   ]
  },
  {
   "cell_type": "code",
   "execution_count": 6,
   "id": "c0be7066",
   "metadata": {},
   "outputs": [
    {
     "name": "stdout",
     "output_type": "stream",
     "text": [
      "1\n",
      "2\n",
      "3\n",
      "4\n",
      "5\n"
     ]
    }
   ],
   "source": [
    "# 6)Write a code to create a list with numbers 1 to 5 and print it\n",
    "list_num=[1,2,3,4,5]\n",
    "for i in list_num:\n",
    "    print(i)"
   ]
  },
  {
   "cell_type": "code",
   "execution_count": 7,
   "id": "7d2ef0d5",
   "metadata": {},
   "outputs": [
    {
     "name": "stdout",
     "output_type": "stream",
     "text": [
      "[1, 2, 3, 4, 10]\n"
     ]
    }
   ],
   "source": [
    "# 7)Write a code to append the number 10 to the list [1, 2, 3, 4]\n",
    "num_list=[1,2,3,4]\n",
    "num_list.append(10)\n",
    "print(num_list)"
   ]
  },
  {
   "cell_type": "code",
   "execution_count": 8,
   "id": "ad4bfba0",
   "metadata": {},
   "outputs": [
    {
     "name": "stdout",
     "output_type": "stream",
     "text": [
      "[1, 2, 4, 5]\n"
     ]
    }
   ],
   "source": [
    "# 8)Write a code to remove the number 3 from the list [1, 2, 3, 4, 5]\n",
    "new_list=[1,2,3,4,5]\n",
    "new_list.remove(3)\n",
    "print(new_list)"
   ]
  },
  {
   "cell_type": "code",
   "execution_count": 9,
   "id": "0aaeb1c5",
   "metadata": {},
   "outputs": [
    {
     "data": {
      "text/plain": [
       "'b'"
      ]
     },
     "execution_count": 9,
     "metadata": {},
     "output_type": "execute_result"
    }
   ],
   "source": [
    "# 9)Write a code to access the second element in the list ['a', 'b', 'c', 'd']\n",
    "list=[\"a\",\"b\",\"c\",\"d\"]\n",
    "list[1]\n",
    "\n"
   ]
  },
  {
   "cell_type": "code",
   "execution_count": 10,
   "id": "0b78946b",
   "metadata": {},
   "outputs": [
    {
     "data": {
      "text/plain": [
       "[50, 40, 30, 20, 10]"
      ]
     },
     "execution_count": 10,
     "metadata": {},
     "output_type": "execute_result"
    }
   ],
   "source": [
    "# 10)Write a code to reverse the list [10, 20, 30, 40, 50].\n",
    "\n",
    "lis_new=[10,20,30,40,50]\n",
    "lis_new[::-1]"
   ]
  },
  {
   "cell_type": "code",
   "execution_count": 11,
   "id": "3feadbfe",
   "metadata": {},
   "outputs": [
    {
     "name": "stdout",
     "output_type": "stream",
     "text": [
      "(100, 200, 300)\n"
     ]
    }
   ],
   "source": [
    "# 11)Write a code to create a tuple with the elements 100, 200, 300 and print it\n",
    "my_tuple=(100,200,300)\n",
    "print(my_tuple)"
   ]
  },
  {
   "cell_type": "code",
   "execution_count": 12,
   "id": "d73cca41",
   "metadata": {},
   "outputs": [
    {
     "data": {
      "text/plain": [
       "('green', 'blue', 'yellow')"
      ]
     },
     "execution_count": 12,
     "metadata": {},
     "output_type": "execute_result"
    }
   ],
   "source": [
    "#12) Write a code to access the second-to-last element of the tuple ('red', 'green', 'blue', 'yellow')\n",
    "new_tup=('red','green','blue','yellow')\n",
    "new_tup[1:4]"
   ]
  },
  {
   "cell_type": "code",
   "execution_count": 13,
   "id": "8b27753e",
   "metadata": {},
   "outputs": [
    {
     "data": {
      "text/plain": [
       "5"
      ]
     },
     "execution_count": 13,
     "metadata": {},
     "output_type": "execute_result"
    }
   ],
   "source": [
    "# 13)Write a code to find the minimum number in the tuple (10, 20, 5, 15).\n",
    "num_tuple=(10, 20, 5, 15)\n",
    "min(num_tuple)"
   ]
  },
  {
   "cell_type": "code",
   "execution_count": 14,
   "id": "211da94c",
   "metadata": {},
   "outputs": [
    {
     "data": {
      "text/plain": [
       "1"
      ]
     },
     "execution_count": 14,
     "metadata": {},
     "output_type": "execute_result"
    }
   ],
   "source": [
    "# 14)Write a code to find the index of the element \"cat\" in the tuple ('dog', 'cat', 'rabbit').\n",
    "animals_tup=('dog', 'cat', 'rabbit')\n",
    "animals_tup.index(\"cat\")"
   ]
  },
  {
   "cell_type": "code",
   "execution_count": 15,
   "id": "361565f5",
   "metadata": {},
   "outputs": [
    {
     "name": "stdout",
     "output_type": "stream",
     "text": [
      "Kiwi is present\n"
     ]
    }
   ],
   "source": [
    "#15) Write a code to create a tuple containing three different fruits and check if \"kiwi\" is in it.\n",
    "fruits=(\"orange\",\"apple\",\"kiwi\")\n",
    "if \"kiwi\" in fruits:\n",
    "    print(\"Kiwi is present\")\n",
    "else:\n",
    "    print(\"kiwi is not present\")"
   ]
  },
  {
   "cell_type": "code",
   "execution_count": 16,
   "id": "acedd136",
   "metadata": {},
   "outputs": [
    {
     "name": "stdout",
     "output_type": "stream",
     "text": [
      "{'c', 'a', 'b'}\n"
     ]
    }
   ],
   "source": [
    "# 16) Write a code to create a set with the elements 'a', 'b', 'c' and print it\n",
    "alpha_set={'a','b','c'}\n",
    "print(alpha_set)"
   ]
  },
  {
   "cell_type": "code",
   "execution_count": 17,
   "id": "6fdbbb9d",
   "metadata": {},
   "outputs": [
    {
     "name": "stdout",
     "output_type": "stream",
     "text": [
      "set()\n"
     ]
    }
   ],
   "source": [
    "#17)Write a code to clear all elements from the set {1, 2, 3, 4, 5}.\n",
    "num_set={1, 2, 3, 4, 5}\n",
    "num_set.clear()\n",
    "print(num_set)"
   ]
  },
  {
   "cell_type": "code",
   "execution_count": 18,
   "id": "6a31c36e",
   "metadata": {},
   "outputs": [
    {
     "name": "stdout",
     "output_type": "stream",
     "text": [
      "{1, 2, 3}\n"
     ]
    }
   ],
   "source": [
    "# 18. Write a code to remove the element 4 from the set {1, 2, 3, 4}.\n",
    "numbers_set={1, 2, 3, 4}\n",
    "numbers_set.remove(4)\n",
    "print(numbers_set)"
   ]
  },
  {
   "cell_type": "code",
   "execution_count": 19,
   "id": "4886909c",
   "metadata": {},
   "outputs": [
    {
     "name": "stdout",
     "output_type": "stream",
     "text": [
      "{1, 2, 3, 4, 5}\n"
     ]
    }
   ],
   "source": [
    "# 19. Write a code to find the union of two sets {1, 2, 3} and {3, 4, 5}.\n",
    "set1={1, 2, 3}\n",
    "set2={3, 4, 5}\n",
    "set3=set1|set2\n",
    "print(set3)"
   ]
  },
  {
   "cell_type": "code",
   "execution_count": 20,
   "id": "3ff66858",
   "metadata": {},
   "outputs": [
    {
     "name": "stdout",
     "output_type": "stream",
     "text": [
      "{2, 3}\n"
     ]
    }
   ],
   "source": [
    "# 20. Write a code to find the intersection of two sets {1, 2, 3} and {2, 3, 4}.\n",
    "set_num1={1, 2, 3}\n",
    "set_num2={2, 3, 4}\n",
    "set_num3=set_num1&set_num2\n",
    "print(set_num3)"
   ]
  },
  {
   "cell_type": "code",
   "execution_count": 21,
   "id": "a3e4d193",
   "metadata": {},
   "outputs": [
    {
     "name": "stdout",
     "output_type": "stream",
     "text": [
      "{'Name': 'Varshith', 'Age': 23, 'City': 'Hyderabad'}\n"
     ]
    }
   ],
   "source": [
    "# 21) Write a code to create a dictionary with the keys \"name\", \"age\", and \"city\", and print it\n",
    "my_dict={\"Name\":\"Varshith\",\"Age\":23,\"City\":\"Hyderabad\"}\n",
    "print(my_dict)"
   ]
  },
  {
   "cell_type": "code",
   "execution_count": 22,
   "id": "95d995bb",
   "metadata": {},
   "outputs": [
    {
     "name": "stdout",
     "output_type": "stream",
     "text": [
      "{'name': 'John', 'age': 25, 'country': 'Usa'}\n"
     ]
    }
   ],
   "source": [
    "# 22)Write a code to add a new key-value pair \"country\": \"USA\" to the dictionary {'name': 'John', 'age': 25}\n",
    "dict={'name': 'John', 'age': 25}\n",
    "dict[\"country\"]=\"Usa\"\n",
    "print(dict)\n",
    "\n"
   ]
  },
  {
   "cell_type": "code",
   "execution_count": 23,
   "id": "32907be6",
   "metadata": {},
   "outputs": [
    {
     "data": {
      "text/plain": [
       "'Alice'"
      ]
     },
     "execution_count": 23,
     "metadata": {},
     "output_type": "execute_result"
    }
   ],
   "source": [
    " # 23) Write a code to access the value associated with the key \"name\" in the dictionary {'name': 'Alice', 'age': 30}\n",
    "new_dict={'name': 'Alice', 'age': 30}\n",
    "new_dict[\"name\"]"
   ]
  },
  {
   "cell_type": "code",
   "execution_count": 24,
   "id": "7c7dfb5a",
   "metadata": {},
   "outputs": [
    {
     "name": "stdout",
     "output_type": "stream",
     "text": [
      "{'name': 'Bob', 'city': 'New York'}\n"
     ]
    }
   ],
   "source": [
    "# 24. Write a code to remove the key \"age\" from the dictionary {'name': 'Bob', 'age': 22, 'city': 'New York'}.\n",
    "new_dictionary={'name': 'Bob', 'age': 22, 'city': 'New York'}\n",
    "del new_dictionary[\"age\"]\n",
    "print(new_dictionary)"
   ]
  },
  {
   "cell_type": "code",
   "execution_count": 25,
   "id": "4536c762",
   "metadata": {},
   "outputs": [
    {
     "name": "stdout",
     "output_type": "stream",
     "text": [
      "Exists\n"
     ]
    }
   ],
   "source": [
    "# 25. Write a code to check if the key \"city\" exists in the dictionary {'name': 'Alice', 'city': 'Paris'}.\n",
    "new1_dict={'name': 'Alice', 'city': 'Paris'}\n",
    "if \"city\" in new1_dict:\n",
    "    print(\"Exists\")\n",
    "else:\n",
    "    print(\"no\")"
   ]
  },
  {
   "cell_type": "code",
   "execution_count": 26,
   "id": "c71d4803",
   "metadata": {},
   "outputs": [
    {
     "name": "stdout",
     "output_type": "stream",
     "text": [
      "[1, 2.3, 'Hello']\n",
      "(2, 3.1, 'World')\n",
      "{'name': 'Alice', 'city': 'Paris'}\n"
     ]
    }
   ],
   "source": [
    "# 26) Write a code to create a list, a tuple, and a dictionary, and print them all.\n",
    "list=[1,2.3,\"Hello\"] #List\n",
    "tuple=(2,3.1,\"World\") #Tuple\n",
    "dict={'name': 'Alice', 'city': 'Paris'} #Dictionary\n",
    "print(list)\n",
    "print(tuple)\n",
    "print(dict)"
   ]
  },
  {
   "cell_type": "code",
   "execution_count": 27,
   "id": "3589f8a5",
   "metadata": {},
   "outputs": [
    {
     "name": "stdout",
     "output_type": "stream",
     "text": [
      "[24, 30, 33, 44, 93]\n"
     ]
    }
   ],
   "source": [
    "#27)Write a code to create a list of 5 random numbers between 1 and 100, sort it in ascending order, and print the\n",
    "#result.(replaced)\n",
    "import random\n",
    "list_new=[]\n",
    "\n",
    "for _ in range(5):\n",
    "    list_new.append(random.randint(1, 100))\n",
    "\n",
    "list_new.sort()\n",
    "print(list_new)\n"
   ]
  },
  {
   "cell_type": "code",
   "execution_count": 28,
   "id": "5e0614b8",
   "metadata": {},
   "outputs": [
    {
     "data": {
      "text/plain": [
       "'PWSkills'"
      ]
     },
     "execution_count": 28,
     "metadata": {},
     "output_type": "execute_result"
    }
   ],
   "source": [
    "# 28)Write a code to create a list with strings and print the element at the third index\n",
    "strings_list=[\"Hello\",\"apple\",\"Cricket\",\"PWSkills\"]\n",
    "strings_list[3]"
   ]
  },
  {
   "cell_type": "code",
   "execution_count": 29,
   "id": "60721cea",
   "metadata": {},
   "outputs": [
    {
     "name": "stdout",
     "output_type": "stream",
     "text": [
      "({'Cricket': 'Sachin'}, {'King': 'Kohli'})\n"
     ]
    }
   ],
   "source": [
    "# 29)Write a code to combine two dictionaries into one and print the result.\n",
    "dict1={\"Cricket\":\"Sachin\"}\n",
    "dict2={\"King\":\"Kohli\"}\n",
    "dict3=(dict1,dict2)\n",
    "print(dict3)\n"
   ]
  },
  {
   "cell_type": "code",
   "execution_count": null,
   "id": "b0b60e4d",
   "metadata": {},
   "outputs": [
    {
     "name": "stdout",
     "output_type": "stream",
     "text": [
      "Original list: ['apple', 'banana', 'orange', 'apple', 'grape', 'banana']\n",
      "Converted set: {'apple', 'banana', 'grape', 'orange'}\n"
     ]
    }
   ],
   "source": [
    "my_list = [\"apple\", \"banana\", \"orange\", \"apple\", \"grape\", \"banana\"]\n",
    "\n",
    "my_set = set(my_list)\n",
    "\n",
    "print(f\"Original list: {my_list}\")\n",
    "print(f\"Converted set: {my_set}\")"
   ]
  }
 ],
 "metadata": {
  "kernelspec": {
   "display_name": "Python 3",
   "language": "python",
   "name": "python3"
  },
  "language_info": {
   "codemirror_mode": {
    "name": "ipython",
    "version": 3
   },
   "file_extension": ".py",
   "mimetype": "text/x-python",
   "name": "python",
   "nbconvert_exporter": "python",
   "pygments_lexer": "ipython3",
   "version": "3.11.0"
  }
 },
 "nbformat": 4,
 "nbformat_minor": 5
}
