{
 "cells": [
  {
   "cell_type": "code",
   "execution_count": 5,
   "id": "0dbc56e8",
   "metadata": {},
   "outputs": [
    {
     "name": "stdout",
     "output_type": "stream",
     "text": [
      "Varshith\n"
     ]
    }
   ],
   "source": []
  },
  {
   "cell_type": "code",
   "execution_count": 6,
   "id": "1d2a7b1c",
   "metadata": {},
   "outputs": [
    {
     "name": "stdout",
     "output_type": "stream",
     "text": [
      "Varshith\n"
     ]
    }
   ],
   "source": [
    "# 1)Write a code to create a string with your name and print it\n",
    "str_name=\"Varshith\"\n",
    "print(str_name)"
   ]
  },
  {
   "cell_type": "code",
   "execution_count": null,
   "id": "59b8e6ba",
   "metadata": {},
   "outputs": [
    {
     "name": "stdout",
     "output_type": "stream",
     "text": [
      "11\n"
     ]
    }
   ],
   "source": [
    "# 2)Write a code to find the length of the string \"Hello World\"\n",
    "str=\"Hello World\"\n",
    "b=len(str)\n",
    "print(b)"
   ]
  },
  {
   "cell_type": "code",
   "execution_count": 11,
   "id": "322730be",
   "metadata": {},
   "outputs": [
    {
     "data": {
      "text/plain": [
       "'Pyt'"
      ]
     },
     "execution_count": 11,
     "metadata": {},
     "output_type": "execute_result"
    }
   ],
   "source": [
    "# 3)Write a code to slice the first 3 characters from the string \"Python Programming\"\n",
    "\n",
    "str=\"Python Programming\"\n",
    "str[0:3]"
   ]
  },
  {
   "cell_type": "code",
   "execution_count": 16,
   "id": "040194fa",
   "metadata": {},
   "outputs": [
    {
     "data": {
      "text/plain": [
       "'HELLO'"
      ]
     },
     "execution_count": 16,
     "metadata": {},
     "output_type": "execute_result"
    }
   ],
   "source": [
    "# 4)Write a code to convert the string \"hello\" to uppercase\n",
    "str=\"hello\"\n",
    "str.upper()"
   ]
  },
  {
   "cell_type": "code",
   "execution_count": 19,
   "id": "890454f8",
   "metadata": {},
   "outputs": [
    {
     "data": {
      "text/plain": [
       "'I like orange'"
      ]
     },
     "execution_count": 19,
     "metadata": {},
     "output_type": "execute_result"
    }
   ],
   "source": [
    "# 5)Write a code to replace the word \"apple\" with \"orange\" in the string \"I like apple\"\n",
    "str=\"I like apple\"\n",
    "str.replace(\"apple\",\"orange\")"
   ]
  },
  {
   "cell_type": "code",
   "execution_count": 20,
   "id": "c0be7066",
   "metadata": {},
   "outputs": [
    {
     "name": "stdout",
     "output_type": "stream",
     "text": [
      "1\n",
      "2\n",
      "3\n",
      "4\n",
      "5\n"
     ]
    }
   ],
   "source": [
    "# 6)Write a code to create a list with numbers 1 to 5 and print it\n",
    "list_num=[1,2,3,4,5]\n",
    "for i in list_num:\n",
    "    print(i)"
   ]
  },
  {
   "cell_type": "code",
   "execution_count": 23,
   "id": "7d2ef0d5",
   "metadata": {},
   "outputs": [
    {
     "name": "stdout",
     "output_type": "stream",
     "text": [
      "[1, 2, 3, 4, 10]\n"
     ]
    }
   ],
   "source": [
    "# 7)Write a code to append the number 10 to the list [1, 2, 3, 4]\n",
    "num_list=[1,2,3,4]\n",
    "num_list.append(10)\n",
    "print(num_list)"
   ]
  },
  {
   "cell_type": "code",
   "execution_count": 25,
   "id": "ad4bfba0",
   "metadata": {},
   "outputs": [
    {
     "name": "stdout",
     "output_type": "stream",
     "text": [
      "[1, 2, 4, 5]\n"
     ]
    }
   ],
   "source": [
    "# 8)Write a code to remove the number 3 from the list [1, 2, 3, 4, 5]\n",
    "new_list=[1,2,3,4,5]\n",
    "new_list.remove(3)\n",
    "print(new_list)"
   ]
  },
  {
   "cell_type": "code",
   "execution_count": 27,
   "id": "0aaeb1c5",
   "metadata": {},
   "outputs": [
    {
     "data": {
      "text/plain": [
       "'b'"
      ]
     },
     "execution_count": 27,
     "metadata": {},
     "output_type": "execute_result"
    }
   ],
   "source": [
    "# 9)Write a code to access the second element in the list ['a', 'b', 'c', 'd']\n",
    "list=[\"a\",\"b\",\"c\",\"d\"]\n",
    "list[1]\n",
    "\n"
   ]
  },
  {
   "cell_type": "code",
   "execution_count": 28,
   "id": "0b78946b",
   "metadata": {},
   "outputs": [
    {
     "data": {
      "text/plain": [
       "[50, 40, 30, 20, 10]"
      ]
     },
     "execution_count": 28,
     "metadata": {},
     "output_type": "execute_result"
    }
   ],
   "source": [
    "# 10)Write a code to reverse the list [10, 20, 30, 40, 50].\n",
    "\n",
    "lis_new=[10,20,30,40,50]\n",
    "lis_new[::-1]"
   ]
  },
  {
   "cell_type": "code",
   "execution_count": null,
   "id": "3feadbfe",
   "metadata": {},
   "outputs": [
    {
     "name": "stdout",
     "output_type": "stream",
     "text": [
      "(100, 200, 300)\n"
     ]
    }
   ],
   "source": [
    "# 11)Write a code to create a tuple with the elements 100, 200, 300 and print it\n",
    "my_tuple=(100,200,300)\n",
    "print(my_tuple)"
   ]
  },
  {
   "cell_type": "code",
   "execution_count": null,
   "id": "d73cca41",
   "metadata": {},
   "outputs": [
    {
     "data": {
      "text/plain": [
       "('green', 'blue', 'yellow')"
      ]
     },
     "execution_count": 32,
     "metadata": {},
     "output_type": "execute_result"
    }
   ],
   "source": [
    "#12) Write a code to access the second-to-last element of the tuple ('red', 'green', 'blue', 'yellow')\n",
    "new_tup=('red','green','blue','yellow')\n",
    "new_tup[1:4]"
   ]
  },
  {
   "cell_type": "code",
   "execution_count": 34,
   "id": "8b27753e",
   "metadata": {},
   "outputs": [
    {
     "data": {
      "text/plain": [
       "5"
      ]
     },
     "execution_count": 34,
     "metadata": {},
     "output_type": "execute_result"
    }
   ],
   "source": [
    "# 13)Write a code to find the minimum number in the tuple (10, 20, 5, 15).\n",
    "num_tuple=(10, 20, 5, 15)\n",
    "min(num_tuple)"
   ]
  },
  {
   "cell_type": "code",
   "execution_count": 35,
   "id": "211da94c",
   "metadata": {},
   "outputs": [
    {
     "data": {
      "text/plain": [
       "1"
      ]
     },
     "execution_count": 35,
     "metadata": {},
     "output_type": "execute_result"
    }
   ],
   "source": [
    "# 14)Write a code to find the index of the element \"cat\" in the tuple ('dog', 'cat', 'rabbit').\n",
    "animals_tup=('dog', 'cat', 'rabbit')\n",
    "animals_tup.index(\"cat\")"
   ]
  },
  {
   "cell_type": "code",
   "execution_count": 42,
   "id": "361565f5",
   "metadata": {},
   "outputs": [
    {
     "name": "stdout",
     "output_type": "stream",
     "text": [
      "Kiwi is present\n"
     ]
    }
   ],
   "source": [
    "#15) Write a code to create a tuple containing three different fruits and check if \"kiwi\" is in it.\n",
    "fruits=(\"orange\",\"apple\",\"kiwi\")\n",
    "if \"kiwi\" in fruits:\n",
    "    print(\"Kiwi is present\")\n",
    "else:\n",
    "    print(\"kiwi is not present\")"
   ]
  }
 ],
 "metadata": {
  "kernelspec": {
   "display_name": "Python 3",
   "language": "python",
   "name": "python3"
  },
  "language_info": {
   "codemirror_mode": {
    "name": "ipython",
    "version": 3
   },
   "file_extension": ".py",
   "mimetype": "text/x-python",
   "name": "python",
   "nbconvert_exporter": "python",
   "pygments_lexer": "ipython3",
   "version": "3.11.0"
  }
 },
 "nbformat": 4,
 "nbformat_minor": 5
}
